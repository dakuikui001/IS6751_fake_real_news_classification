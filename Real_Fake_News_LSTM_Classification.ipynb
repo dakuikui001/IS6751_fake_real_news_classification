{
 "cells": [
  {
   "cell_type": "markdown",
   "id": "7a96bae1",
   "metadata": {},
   "source": [
    "## Imports"
   ]
  },
  {
   "cell_type": "code",
   "execution_count": 1,
   "id": "ef6d6359",
   "metadata": {},
   "outputs": [],
   "source": [
    "import unicodedata  \n",
    "import inflect       \n",
    "import re\n",
    "from nltk import sent_tokenize\n",
    "from nltk.stem import LancasterStemmer\n",
    "from nltk.corpus import stopwords\n",
    "from nltk.stem import WordNetLemmatizer\n",
    "from nltk.util import ngrams\n",
    "from nltk.tokenize import word_tokenize\n",
    "import pandas as pd\n",
    "import numpy as np\n",
    "import collections"
   ]
  },
  {
   "cell_type": "markdown",
   "id": "55ad5027",
   "metadata": {},
   "source": [
    "## Step 1: Text pre-processing"
   ]
  },
  {
   "cell_type": "markdown",
   "id": "413c6f05",
   "metadata": {},
   "source": [
    "### 1.1 Text Combination and Train_valid_test Split"
   ]
  },
  {
   "cell_type": "code",
   "execution_count": 2,
   "id": "4a3bfdad",
   "metadata": {},
   "outputs": [
    {
     "name": "stdout",
     "output_type": "stream",
     "text": [
      "(44898, 5)\n",
      "Index(['title', 'text', 'subject', 'date', 'label'], dtype='object')\n",
      "<class 'pandas.core.frame.DataFrame'>\n",
      "RangeIndex: 44898 entries, 0 to 44897\n",
      "Data columns (total 5 columns):\n",
      " #   Column   Non-Null Count  Dtype \n",
      "---  ------   --------------  ----- \n",
      " 0   title    44898 non-null  object\n",
      " 1   text     44898 non-null  object\n",
      " 2   subject  44898 non-null  object\n",
      " 3   date     44898 non-null  object\n",
      " 4   label    44898 non-null  object\n",
      "dtypes: object(5)\n",
      "memory usage: 1.7+ MB\n",
      "None\n"
     ]
    }
   ],
   "source": [
    "fake_news_df = pd.read_csv('Data/Fake.csv')\n",
    "true_news_df = pd.read_csv('Data/True.csv')\n",
    "fake_news_df['label'] = 'False'\n",
    "true_news_df['label'] = 'True'\n",
    "news_df = pd.concat([fake_news_df, true_news_df], ignore_index=True, axis=0)\n",
    "print(news_df.shape)\n",
    "print(news_df.columns)\n",
    "print(news_df.info())\n"
   ]
  },
  {
   "cell_type": "code",
   "execution_count": 3,
   "id": "2a15ec14",
   "metadata": {},
   "outputs": [
    {
     "name": "stdout",
     "output_type": "stream",
     "text": [
      "(44898, 5)\n"
     ]
    }
   ],
   "source": [
    "news_df = news_df[news_df.text.isna() == False]\n",
    "news_df = news_df[news_df.title.isna() == False]\n",
    "news_df = news_df[news_df.subject.isna() == False]\n",
    "print(news_df.shape)"
   ]
  },
  {
   "cell_type": "code",
   "execution_count": 4,
   "id": "066de764",
   "metadata": {},
   "outputs": [
    {
     "name": "stdout",
     "output_type": "stream",
     "text": [
      "                                                text  label\n",
      "0   Donald Trump Sends Out Embarrassing New Year’...  False\n",
      "1   Drunk Bragging Trump Staffer Started Russian ...  False\n",
      "2   Sheriff David Clarke Becomes An Internet Joke...  False\n",
      "3   Trump Is So Obsessed He Even Has Obama’s Name...  False\n",
      "4   Pope Francis Just Called Out Donald Trump Dur...  False\n",
      "label\n",
      "False    23481\n",
      "True     21417\n",
      "Name: count, dtype: int64\n"
     ]
    }
   ],
   "source": [
    "news_df['text'] = news_df['title'] + ' ' + news_df['text'] + ' ' + news_df['subject']\n",
    "news_df.drop(['title', 'date', 'subject'], axis=1, inplace=True)\n",
    "print(news_df.head())\n",
    "print(news_df.label.value_counts())"
   ]
  },
  {
   "cell_type": "code",
   "execution_count": 5,
   "id": "c5005029",
   "metadata": {},
   "outputs": [],
   "source": [
    "by_labels = collections.defaultdict(list)\n",
    "for _, row in news_df.iterrows():\n",
    "    by_labels[row.label].append(row.to_dict())"
   ]
  },
  {
   "cell_type": "code",
   "execution_count": 6,
   "id": "bff5665f",
   "metadata": {},
   "outputs": [],
   "source": [
    "# split dateset to train, validate and test dataset and stored in list\n",
    "final_list = []\n",
    "np.random.seed(1234)\n",
    "\n",
    "for _, item_list in sorted(by_labels.items()):\n",
    "\n",
    "    np.random.shuffle(item_list)\n",
    "    \n",
    "    n_total = len(item_list)\n",
    "    n_train = int(0.7 * n_total)\n",
    "    n_valid = int(0.15 * n_total)\n",
    "    n_test = n_total - n_train - n_valid\n",
    "    \n",
    "    # Give data point a split attribute\n",
    "    for item in item_list[:n_train]:\n",
    "        item['split'] = 'train'\n",
    "    for item in item_list[n_train:n_train+n_valid]:\n",
    "        item['split'] = 'val'\n",
    "    for item in item_list[n_train+n_valid:]:\n",
    "        item['split'] = 'test'\n",
    "\n",
    "    # Add to final list\n",
    "    final_list.extend(item_list) "
   ]
  },
  {
   "cell_type": "code",
   "execution_count": 7,
   "id": "ac8d65ba",
   "metadata": {},
   "outputs": [
    {
     "data": {
      "text/plain": [
       "split\n",
       "train    31427\n",
       "test      6737\n",
       "val       6734\n",
       "Name: count, dtype: int64"
      ]
     },
     "execution_count": 7,
     "metadata": {},
     "output_type": "execute_result"
    }
   ],
   "source": [
    "final_df = pd.DataFrame(final_list)\n",
    "final_df.split.value_counts()"
   ]
  },
  {
   "cell_type": "markdown",
   "id": "e50c9fc3",
   "metadata": {},
   "source": [
    "### 1.2 Data preprocessing"
   ]
  },
  {
   "cell_type": "code",
   "execution_count": 8,
   "id": "15f36896",
   "metadata": {},
   "outputs": [],
   "source": [
    "def remove_stopwords(words):\n",
    "    new_words = []\n",
    "    for word in words:\n",
    "        if word not in stopwords.words('english'):\n",
    "            new_words.append(word)\n",
    "    return new_words\n",
    "\n",
    "def stem_words(words):\n",
    "    stemmer = LancasterStemmer()\n",
    "    stems = []\n",
    "    for word in words:\n",
    "        stem = stemmer.stem(word)\n",
    "        stems.append(stem)\n",
    "    return stems\n",
    "\n",
    "def lemmatize_verbs(words):\n",
    "    lemmatizer = WordNetLemmatizer()\n",
    "    lemmas = []\n",
    "    for word in words:\n",
    "        lemma = lemmatizer.lemmatize(word, pos='v')\n",
    "        lemmas.append(lemma)\n",
    "    return lemmas\n",
    "\n",
    "\n",
    "def preprocess_text(text):\n",
    "    if type(text) == float:\n",
    "        print(text)\n",
    "    text = text.lower()\n",
    "    text = re.sub(r\"([.,!?])\", r\" \\1 \", text)  # E.g., convert \"end.\" to \"end . \" ; \\1 indicates a matched character\n",
    "    text = re.sub(r\"[^a-zA-Z0-9]+\", r\" \", text) # replace special characters with empty string\n",
    "    return text.strip()"
   ]
  },
  {
   "cell_type": "code",
   "execution_count": 9,
   "id": "26b99ce8",
   "metadata": {},
   "outputs": [
    {
     "data": {
      "text/html": [
       "<div>\n",
       "<style scoped>\n",
       "    .dataframe tbody tr th:only-of-type {\n",
       "        vertical-align: middle;\n",
       "    }\n",
       "\n",
       "    .dataframe tbody tr th {\n",
       "        vertical-align: top;\n",
       "    }\n",
       "\n",
       "    .dataframe thead th {\n",
       "        text-align: right;\n",
       "    }\n",
       "</style>\n",
       "<table border=\"1\" class=\"dataframe\">\n",
       "  <thead>\n",
       "    <tr style=\"text-align: right;\">\n",
       "      <th></th>\n",
       "      <th>text</th>\n",
       "      <th>label</th>\n",
       "      <th>split</th>\n",
       "    </tr>\n",
       "  </thead>\n",
       "  <tbody>\n",
       "    <tr>\n",
       "      <th>0</th>\n",
       "      <td>jake tapper burns trump with bill maher he is ...</td>\n",
       "      <td>False</td>\n",
       "      <td>train</td>\n",
       "    </tr>\n",
       "    <tr>\n",
       "      <th>1</th>\n",
       "      <td>buried by media aide to leftist us congressman...</td>\n",
       "      <td>False</td>\n",
       "      <td>train</td>\n",
       "    </tr>\n",
       "    <tr>\n",
       "      <th>2</th>\n",
       "      <td>cnn clown who cries about fake news uses unver...</td>\n",
       "      <td>False</td>\n",
       "      <td>train</td>\n",
       "    </tr>\n",
       "    <tr>\n",
       "      <th>3</th>\n",
       "      <td>delusional obama on how divided america has be...</td>\n",
       "      <td>False</td>\n",
       "      <td>train</td>\n",
       "    </tr>\n",
       "    <tr>\n",
       "      <th>4</th>\n",
       "      <td>veterans cozy trump relationship with russian ...</td>\n",
       "      <td>False</td>\n",
       "      <td>train</td>\n",
       "    </tr>\n",
       "  </tbody>\n",
       "</table>\n",
       "</div>"
      ],
      "text/plain": [
       "                                                text  label  split\n",
       "0  jake tapper burns trump with bill maher he is ...  False  train\n",
       "1  buried by media aide to leftist us congressman...  False  train\n",
       "2  cnn clown who cries about fake news uses unver...  False  train\n",
       "3  delusional obama on how divided america has be...  False  train\n",
       "4  veterans cozy trump relationship with russian ...  False  train"
      ]
     },
     "execution_count": 9,
     "metadata": {},
     "output_type": "execute_result"
    }
   ],
   "source": [
    "final_df['text'] = final_df['text'].apply(preprocess_text)\n",
    "final_df.head()"
   ]
  },
  {
   "cell_type": "code",
   "execution_count": 10,
   "id": "34e6021a",
   "metadata": {},
   "outputs": [
    {
     "data": {
      "text/html": [
       "<div>\n",
       "<style scoped>\n",
       "    .dataframe tbody tr th:only-of-type {\n",
       "        vertical-align: middle;\n",
       "    }\n",
       "\n",
       "    .dataframe tbody tr th {\n",
       "        vertical-align: top;\n",
       "    }\n",
       "\n",
       "    .dataframe thead th {\n",
       "        text-align: right;\n",
       "    }\n",
       "</style>\n",
       "<table border=\"1\" class=\"dataframe\">\n",
       "  <thead>\n",
       "    <tr style=\"text-align: right;\">\n",
       "      <th></th>\n",
       "      <th>text</th>\n",
       "      <th>label</th>\n",
       "      <th>split</th>\n",
       "    </tr>\n",
       "  </thead>\n",
       "  <tbody>\n",
       "    <tr>\n",
       "      <th>0</th>\n",
       "      <td>[jake, tapper, burns, trump, with, bill, maher...</td>\n",
       "      <td>False</td>\n",
       "      <td>train</td>\n",
       "    </tr>\n",
       "    <tr>\n",
       "      <th>1</th>\n",
       "      <td>[buried, by, media, aide, to, leftist, us, con...</td>\n",
       "      <td>False</td>\n",
       "      <td>train</td>\n",
       "    </tr>\n",
       "    <tr>\n",
       "      <th>2</th>\n",
       "      <td>[cnn, clown, who, cries, about, fake, news, us...</td>\n",
       "      <td>False</td>\n",
       "      <td>train</td>\n",
       "    </tr>\n",
       "    <tr>\n",
       "      <th>3</th>\n",
       "      <td>[delusional, obama, on, how, divided, america,...</td>\n",
       "      <td>False</td>\n",
       "      <td>train</td>\n",
       "    </tr>\n",
       "    <tr>\n",
       "      <th>4</th>\n",
       "      <td>[veterans, cozy, trump, relationship, with, ru...</td>\n",
       "      <td>False</td>\n",
       "      <td>train</td>\n",
       "    </tr>\n",
       "  </tbody>\n",
       "</table>\n",
       "</div>"
      ],
      "text/plain": [
       "                                                text  label  split\n",
       "0  [jake, tapper, burns, trump, with, bill, maher...  False  train\n",
       "1  [buried, by, media, aide, to, leftist, us, con...  False  train\n",
       "2  [cnn, clown, who, cries, about, fake, news, us...  False  train\n",
       "3  [delusional, obama, on, how, divided, america,...  False  train\n",
       "4  [veterans, cozy, trump, relationship, with, ru...  False  train"
      ]
     },
     "execution_count": 10,
     "metadata": {},
     "output_type": "execute_result"
    }
   ],
   "source": [
    "final_df['text'] = final_df['text'].apply(word_tokenize)\n",
    "final_df.head()"
   ]
  },
  {
   "cell_type": "code",
   "execution_count": null,
   "id": "27b7291a",
   "metadata": {},
   "outputs": [],
   "source": [
    "final_df['text'] = final_df['text'].apply(remove_stopwords)\n",
    "final_df.head()"
   ]
  },
  {
   "cell_type": "code",
   "execution_count": null,
   "id": "79a431b9",
   "metadata": {},
   "outputs": [],
   "source": [
    "final_df['text'] = final_df['text'].apply(stem_words)\n",
    "final_df['text'] = final_df['text'].apply(lemmatize_verbs)\n",
    "final_df.head()"
   ]
  },
  {
   "cell_type": "code",
   "execution_count": null,
   "id": "55a53eaa",
   "metadata": {},
   "outputs": [],
   "source": [
    "final_df.to_csv('Data/preprocessed_news.csv', index=False)"
   ]
  },
  {
   "cell_type": "code",
   "execution_count": null,
   "id": "f0334fea",
   "metadata": {},
   "outputs": [
    {
     "data": {
      "text/plain": [
       "430.4274577932202"
      ]
     },
     "execution_count": 41,
     "metadata": {},
     "output_type": "execute_result"
    }
   ],
   "source": [
    "final_df['word_length'] = final_df['text'].apply(lambda x: len(x.split()))\n",
    "final_df['word_length'].mean()"
   ]
  },
  {
   "cell_type": "markdown",
   "id": "484337be",
   "metadata": {},
   "source": [
    "# LSTM Model"
   ]
  },
  {
   "cell_type": "code",
   "execution_count": null,
   "id": "924c23b0",
   "metadata": {},
   "outputs": [],
   "source": [
    "from argparse import Namespace\n",
    "import os\n",
    "import json\n",
    "import string\n",
    "import numpy as np\n",
    "import pandas as pd\n",
    "import torch\n",
    "import torch.nn as nn\n",
    "import torch.nn.functional as F\n",
    "import torch.optim as optim\n",
    "from torch.utils.data import Dataset, DataLoader\n",
    "from tqdm.notebook import tqdm"
   ]
  },
  {
   "cell_type": "markdown",
   "id": "6b95a328",
   "metadata": {},
   "source": [
    "## Vocabulary, Vectorizer, Dataset"
   ]
  },
  {
   "cell_type": "code",
   "execution_count": null,
   "id": "3072f4bd",
   "metadata": {},
   "outputs": [],
   "source": [
    "class Vocabulary(object):\n",
    "    \"\"\"Class to process text and extract vocabulary for mapping\"\"\"\n",
    "\n",
    "    def __init__(self, token_to_idx=None):\n",
    "        \"\"\"\n",
    "        Args:\n",
    "            token_to_idx (dict): a pre-existing map of tokens to indices\n",
    "        \"\"\"    \n",
    "\n",
    "        if token_to_idx is None:\n",
    "            token_to_idx = {}\n",
    "        self._token_to_idx = token_to_idx         \n",
    "                                                  \n",
    "        self._idx_to_token = {idx: token \n",
    "                              for token, idx in self._token_to_idx.items()}\n",
    "        \n",
    "    def add_token(self, token):\n",
    "        \"\"\"Update mapping dicts based on the token.\n",
    "\n",
    "        Args:\n",
    "            token (str): the item to add into the Vocabulary\n",
    "        Returns:\n",
    "            index (int): the integer corresponding to the token\n",
    "        \"\"\"\n",
    "        if token in self._token_to_idx:\n",
    "            index = self._token_to_idx[token]\n",
    "        else:\n",
    "            index = len(self._token_to_idx)\n",
    "            self._token_to_idx[token] = index\n",
    "            self._idx_to_token[index] = token\n",
    "        return index\n",
    "            \n",
    "    def lookup_token(self, token):\n",
    "        \"\"\"Retrieve the index associated with the token \n",
    "        \n",
    "        Args:\n",
    "            token (str): the token to look up \n",
    "        Returns:\n",
    "            index (int): the index corresponding to the token\n",
    "        \"\"\"\n",
    "        return self._token_to_idx[token]\n",
    "\n",
    "    def lookup_index(self, index):\n",
    "        \"\"\"Return the token associated with the index\n",
    "        \n",
    "        Args: \n",
    "            index (int): the index to look up\n",
    "        Returns:\n",
    "            token (str): the token corresponding to the index\n",
    "        Raises:\n",
    "            KeyError: if the index is not in the Vocabulary\n",
    "        \"\"\"\n",
    "        if index not in self._idx_to_token:\n",
    "            raise KeyError(\"the index (%d) is not in the Vocabulary\" % index)\n",
    "        return self._idx_to_token[index]\n",
    "\n",
    "    def __str__(self):\n",
    "        return \"<Vocabulary(size=%d)>\" % len(self)\n",
    "\n",
    "    def __len__(self):\n",
    "        return len(self._token_to_idx)"
   ]
  },
  {
   "cell_type": "code",
   "execution_count": null,
   "id": "8f3e5d9e",
   "metadata": {},
   "outputs": [],
   "source": [
    "class NewsVocabulary(Vocabulary):\n",
    "    def __init__(self, token_to_idx=None, unk_token=\"<UNK>\",\n",
    "                 mask_token=\"<MASK>\", begin_seq_token=\"<BEGIN>\",\n",
    "                 end_seq_token=\"<END>\"):\n",
    "\n",
    "        super(NewsVocabulary, self).__init__(token_to_idx)\n",
    "\n",
    "        self._mask_token = mask_token  # for paddding, e.g., 'McMahan' -> [2, 5, 6, 5, 7, 8, 7, 9, 3, 0, 0, 0, ..., 0]\n",
    "        self._unk_token = unk_token\n",
    "        self._begin_seq_token = begin_seq_token\n",
    "        self._end_seq_token = end_seq_token\n",
    "\n",
    "        self.mask_index = self.add_token(self._mask_token)           # mask_index is 0\n",
    "        self.unk_index = self.add_token(self._unk_token)             # unk_index is 1\n",
    "        self.begin_seq_index = self.add_token(self._begin_seq_token) # begin_seq_index is 2\n",
    "        self.end_seq_index = self.add_token(self._end_seq_token)     # end_seq_index is 3\n",
    "\n",
    "    def lookup_token(self, token):\n",
    "        \"\"\"Retrieve the index associated with the token \n",
    "          or the UNK index if token isn't present.\n",
    "        \n",
    "        Args:\n",
    "            token (str): the token to look up \n",
    "        Returns:\n",
    "            index (int): the index corresponding to the token\n",
    "        Notes:\n",
    "            `unk_index` needs to be >=0 (having been added into the Vocabulary) \n",
    "              for the UNK functionality \n",
    "        \"\"\"\n",
    "        if self.unk_index >= 0:\n",
    "            return self._token_to_idx.get(token, self.unk_index)\n",
    "        else:\n",
    "            return self._token_to_idx[token]"
   ]
  },
  {
   "cell_type": "code",
   "execution_count": null,
   "id": "372c6569",
   "metadata": {},
   "outputs": [],
   "source": [
    "class NewsVectorizer(object):\n",
    "    \"\"\" The Vectorizer which coordinates the Vocabularies and puts them to use\"\"\"   \n",
    "    def __init__(self, news_vocab, label_vocab):\n",
    "        \"\"\"\n",
    "        Args:\n",
    "            news_vocab (NewsVocabulary): maps words to integers\n",
    "            label_vocab (Vocabulary): maps labels to integers\n",
    "        \"\"\"\n",
    "        self.news_vocab = news_vocab\n",
    "        self.label_vocab = label_vocab\n",
    "\n",
    "    def vectorize(self, news, vector_length=-1):\n",
    "        \"\"\"\n",
    "        Args:\n",
    "            news (str): the string of words\n",
    "            vector_length (int): an argument for forcing the length of index vector\n",
    "        \"\"\"        \n",
    "        # Split text into words and limit the number of words\n",
    "        words = str(news).split(\" \")\n",
    "        \n",
    "        # If vector_length is specified and positive, truncate words to fit\n",
    "        if vector_length > 0:\n",
    "            max_words = vector_length - 2  # Reserve space for begin and end tokens\n",
    "            words = words[:max_words]\n",
    "        \n",
    "        indices = [self.news_vocab.begin_seq_index]\n",
    "        indices.extend(self.news_vocab.lookup_token(token) \n",
    "                       for token in words)\n",
    "        indices.append(self.news_vocab.end_seq_index)\n",
    "\n",
    "        if vector_length < 0:\n",
    "            vector_length = len(indices)\n",
    "\n",
    "        out_vector = np.zeros(vector_length, dtype=np.int64)   # Fixed size vector\n",
    "        out_vector[:len(indices)] = indices\n",
    "        out_vector[len(indices):] = self.news_vocab.mask_index\n",
    "        \n",
    "        return out_vector, len(indices)\n",
    "\n",
    "    @classmethod\n",
    "    def from_dataframe(cls, news_df):\n",
    "        \"\"\"Instantiate the vectorizer from the dataset dataframe\n",
    "        \n",
    "        Args:\n",
    "            news_df (pandas.DataFrame): the news dataset\n",
    "        Returns:\n",
    "            an instance of the NewsVectorizer\n",
    "        \"\"\"\n",
    "        news_vocab = NewsVocabulary() # add mask, unknown, begin_seq, and end_seq tokens to the token_to_index dictionary\n",
    "        label_vocab = Vocabulary()\n",
    "        \n",
    "        for index, row in news_df.iterrows():\n",
    "            for word in str(row.text).split(\" \"):\n",
    "                news_vocab.add_token(word)\n",
    "            label_vocab.add_token(row.label)\n",
    "\n",
    "        return cls(news_vocab, label_vocab)"
   ]
  },
  {
   "cell_type": "code",
   "execution_count": null,
   "id": "8498c6ff",
   "metadata": {},
   "outputs": [],
   "source": [
    "class NewsDataset(Dataset):\n",
    "    def __init__(self, news_df, vectorizer, max_seq_length=512):\n",
    "        \"\"\"\n",
    "        Args:\n",
    "            news_df (pandas.DataFrame): the dataset\n",
    "            vectorizer (NewsVectorizer): vectorizer instatiated from dataset\n",
    "            max_seq_length (int): maximum sequence length to prevent memory issues\n",
    "        \"\"\"\n",
    "        self.news_df = news_df \n",
    "        self._vectorizer = vectorizer\n",
    "\n",
    "        # Use the specified max_seq_length directly\n",
    "        self._max_seq_length = max_seq_length\n",
    "\n",
    "        self.train_df = self.news_df[self.news_df.split=='train']\n",
    "        self.train_size = len(self.train_df)\n",
    "\n",
    "        self.val_df = self.news_df[self.news_df.split=='val']\n",
    "        self.validation_size = len(self.val_df)\n",
    "\n",
    "        self.test_df = self.news_df[self.news_df.split=='test']\n",
    "        self.test_size = len(self.test_df)\n",
    "\n",
    "        self._lookup_dict = {'train': (self.train_df, self.train_size), \n",
    "                             'val': (self.val_df, self.validation_size), \n",
    "                             'test': (self.test_df, self.test_size)}\n",
    "\n",
    "        self.set_split('train')\n",
    "        \n",
    "        # Class weights for binary classification\n",
    "        class_counts = self.train_df.label.value_counts().to_dict()   # {'False': count1, 'True': count2}\n",
    "        def sort_key(item):\n",
    "            return self._vectorizer.label_vocab.lookup_token(item[0]) # e.g, index of False is 0, True is 1\n",
    "        sorted_counts = sorted(class_counts.items(), key=sort_key)          # sort by the index number of label_vocab\n",
    "                                   # {('False', count1), ('True', count2)}\n",
    "        frequencies = [count for _, count in sorted_counts]\n",
    "        self.class_weights = 1.0 / torch.tensor(frequencies, dtype=torch.float32) # [1/count1, 1/count2]\n",
    "\n",
    "        \n",
    "    @classmethod\n",
    "    def load_dataset_and_make_vectorizer(cls, news_csv, max_seq_length=512):\n",
    "        \"\"\"Load dataset and make a new vectorizer from scratch\n",
    "        \n",
    "        Args:\n",
    "            news_csv (str): location of the dataset\n",
    "            max_seq_length (int): maximum sequence length to prevent memory issues\n",
    "        Returns:\n",
    "            an instance of NewsDataset\n",
    "        \"\"\"\n",
    "        news_df = pd.read_csv(news_csv)\n",
    "        train_news_df = news_df[news_df.split=='train']\n",
    "        return cls(news_df, NewsVectorizer.from_dataframe(train_news_df), max_seq_length)\n",
    "        \n",
    "    def get_vectorizer(self):\n",
    "        \"\"\" returns the vectorizer \"\"\"\n",
    "        return self._vectorizer\n",
    "\n",
    "    def set_split(self, split=\"train\"):\n",
    "        self._target_split = split\n",
    "        self._target_df, self._target_size = self._lookup_dict[split]\n",
    "\n",
    "    def __len__(self):\n",
    "        return self._target_size\n",
    "\n",
    "    def __getitem__(self, index):\n",
    "        \"\"\"the primary entry point method for PyTorch datasets\n",
    "        \n",
    "        Args:\n",
    "            index (int): the index to the data point \n",
    "        Returns:\n",
    "            a dictionary holding the data point's:\n",
    "                features (x_data)\n",
    "                label (y_target)\n",
    "                feature length (x_length)\n",
    "        \"\"\"\n",
    "        row = self._target_df.iloc[index]\n",
    "        \n",
    "        news_vector, vec_length = \\\n",
    "            self._vectorizer.vectorize(row.text, self._max_seq_length)\n",
    "        \n",
    "        label_index = \\\n",
    "            self._vectorizer.label_vocab.lookup_token(row.label)\n",
    "\n",
    "        return {'x_data': news_vector,      # 'x_data': [2, 5, 6, 5, 7, 8, 7, 9, 3, 0, 0, 0, ..., 0] when news is processed\n",
    "                'y_target': label_index, # 'y_target': 0 for False, 1 for True              \n",
    "                'x_length': vec_length}        # 'x_length': sequence length\n",
    "    \n",
    "    def get_num_batches(self, batch_size):\n",
    "        \"\"\"Given a batch size, return the number of batches in the dataset\n",
    "        \n",
    "        Args:\n",
    "            batch_size (int)\n",
    "        Returns:\n",
    "            number of batches in the dataset\n",
    "        \"\"\"\n",
    "        return len(self) // batch_size   \n",
    "\n",
    "def generate_batches(dataset, batch_size, shuffle=True,\n",
    "                     drop_last=True, device=\"cpu\"): \n",
    "    \"\"\"\n",
    "    A generator function which wraps the PyTorch DataLoader. It will \n",
    "      ensure each tensor is on the write device location.\n",
    "    \"\"\"\n",
    "    dataloader = DataLoader(dataset=dataset, batch_size=batch_size,\n",
    "                            shuffle=shuffle, drop_last=drop_last)\n",
    "\n",
    "    for data_dict in dataloader:\n",
    "        out_data_dict = {}\n",
    "        for name, tensor in data_dict.items():\n",
    "            out_data_dict[name] = data_dict[name].to(device)\n",
    "        yield out_data_dict"
   ]
  },
  {
   "cell_type": "markdown",
   "id": "2db06ac7",
   "metadata": {},
   "source": [
    "## Model"
   ]
  },
  {
   "cell_type": "code",
   "execution_count": null,
   "id": "85a15844",
   "metadata": {},
   "outputs": [],
   "source": [
    "\n",
    "def column_gather(y_out, x_lengths):\n",
    "    '''Get a specific vector from each batch datapoint in `y_out`.\n",
    "\n",
    "    More precisely, iterate over batch row indices, get the vector that's at\n",
    "    the position indicated by the corresponding value in `x_lengths` at the row\n",
    "    index.\n",
    "\n",
    "    Args:\n",
    "        y_out (torch.FloatTensor, torch.cuda.FloatTensor)\n",
    "            shape: (batch, sequence, feature)\n",
    "        x_lengths (torch.LongTensor, torch.cuda.LongTensor)\n",
    "            shape: (batch,)\n",
    "\n",
    "    Returns:\n",
    "        y_out (torch.FloatTensor, torch.cuda.FloatTensor)\n",
    "            shape: (batch, feature)\n",
    "    '''\n",
    "    x_lengths = x_lengths.long().detach().cpu().numpy() - 1   # deduct 1 since the index starts from 0\n",
    "                                                              # e.g., [9, 6, 11, 9, 7, ...., 12]\n",
    "    out = []\n",
    "    for batch_index, column_index in enumerate(x_lengths): # out gets the last hidden vector of each input: (batch, hidden_size)\n",
    "        out.append(y_out[batch_index, column_index]) # e.g., y_out[0, 9], y_out[1, 6]\n",
    "\n",
    "    return torch.stack(out)  # (batch, hidden_size*num_directions); E.g., (64, 64*num_direction)\n",
    "\n",
    "def column_summation(y_out, x_lengths, mode=\"mean\"):\n",
    "    '''Get a max or mean vector from each batch datapoint in `y_out`.\n",
    "\n",
    "    More precisely, iterate over batch row indices, get the max or mean vector of all the vectors by \n",
    "    the position indicated by the corresponding value in `x_lengths` at the row index.\n",
    "\n",
    "    Args:\n",
    "        y_out (torch.FloatTensor, torch.cuda.FloatTensor)\n",
    "            shape: (batch, sequence, feature)\n",
    "        x_lengths (torch.LongTensor, torch.cuda.LongTensor)\n",
    "            shape: (batch,)\n",
    "        mode: \"mean\" for mean vector; \"max\" for max vector\n",
    "\n",
    "    Returns:\n",
    "        y_out (torch.FloatTensor, torch.cuda.FloatTensor)\n",
    "            shape: (batch, feature)\n",
    "    '''\n",
    "    x_lengths = x_lengths.long().detach().cpu().numpy() - 1\n",
    "\n",
    "    out = []\n",
    "    for batch_index, column_index in enumerate(x_lengths):\n",
    "        if mode == \"mean\":\n",
    "            # replace \"pass\" with your code to get the mean vector of current batch item from y_out[], and append it to out list.\n",
    "            out.append(y_out[batch_index, :column_index + 1].mean(dim=0))\n",
    "        else:      # mode == \"max\"\n",
    "            # replace \"pass\" with your code to get the max vector of current batch item from y_out[], , and append it to out list.\n",
    "            out.append(y_out[batch_index, :column_index + 1].max(dim=0).values)\n",
    "\n",
    "    return torch.stack(out)\n",
    "\n",
    "class NewsClassifier(nn.Module):\n",
    "    \"\"\" A Classifier with an RNN to extract features and an MLP to classify \"\"\"\n",
    "    def __init__(self, embedding_size, num_embeddings, num_classes,\n",
    "                 rnn_hidden_size, bidirectional=False, batch_first=True, padding_idx=0):\n",
    "        \"\"\"\n",
    "        Args:\n",
    "            embedding_size (int): The size of the character embeddings\n",
    "            num_embeddings (int): The number of characters to embed\n",
    "            num_classes (int): The size of the prediction vector \n",
    "                Note: For binary classification, this should be 1\n",
    "            bidirectional (bool): Informs whether bidrectional RNN is used\n",
    "            rnn_hidden_size (int): The size of the RNN's hidden state\n",
    "            batch_first (bool): Informs whether the input tensors will \n",
    "                have batch or the sequence on the 0th dimension\n",
    "            padding_idx (int): The index for the tensor padding; \n",
    "                see torch.nn.Embedding\n",
    "        \"\"\"\n",
    "        super(NewsClassifier, self).__init__()\n",
    "\n",
    "        if bidirectional == False:\n",
    "             self.num_directions = 1\n",
    "        else:\n",
    "             self.num_directions = 2\n",
    "        \n",
    "        self.emb = nn.Embedding(num_embeddings=num_embeddings,    # E.g., (80, 100)\n",
    "                                embedding_dim=embedding_size,\n",
    "                                padding_idx=padding_idx)          # mask_index (padding index) is 0\n",
    "\n",
    "        #self.rnn = nn.RNN(input_size=embedding_size,              # E.g., 100\n",
    "        #self.rnn = nn.GRU(input_size=embedding_size,\n",
    "        self.rnn = nn.LSTM(input_size=embedding_size,\n",
    "                             hidden_size=rnn_hidden_size,         # E.g., 64\n",
    "                             batch_first=batch_first, \n",
    "                             num_layers = 1,\n",
    "                             dropout = 0.0, \n",
    "                             bidirectional=bidirectional)\n",
    "        \n",
    "        self.fc1 = nn.Linear(in_features=rnn_hidden_size*self.num_directions,  # 64*1 for unidirectinal; 64*2 for bidirectional\n",
    "                         out_features=rnn_hidden_size*self.num_directions)\n",
    "        self.fc2 = nn.Linear(in_features=rnn_hidden_size*self.num_directions,\n",
    "                          out_features=1)                            # 1 output for binary classification\n",
    "        # for batch norm & dropout\n",
    "        self.bn1 = nn.BatchNorm1d(rnn_hidden_size*self.num_directions) \n",
    "        self.dropout = nn.Dropout(0.2)\n",
    "\n",
    "\n",
    "    def forward(self, x_in, x_lengths=None, apply_softmax=False):\n",
    "        \"\"\"The forward pass of the classifier\n",
    "        \n",
    "        Args:\n",
    "            x_in (torch.Tensor): an input data tensor. \n",
    "                x_in.shape should be (batch, input_dim, i.e. seq_size)\n",
    "            x_lengths (torch.Tensor): the lengths of each sequence in the batch.\n",
    "                They are used to find the final vector of each sequence: (batch,)\n",
    "            apply_softmax (bool): a flag for the softmax activation\n",
    "                should be false if used with the Cross Entropy losses\n",
    "        Returns:\n",
    "            the resulting tensor. tensor.shape should be (batch, 1) for binary classification\n",
    "        \"\"\"\n",
    "        x_embedded = self.emb(x_in)      # (batch, seq_size)->(batch, seq_size, feat_size) ; E.g., (64,19)->(64,19,100)\n",
    "        \n",
    "        y_out, _ = self.rnn(x_embedded)  # (batch, seq_size, feat_size) -> (batch, seq_size, hidden_size*num_directions)\n",
    "                                         # (64,19,100) -> (64,19,64*num_directions)\n",
    "      \n",
    "        if x_lengths is not None:        # (batch, ) ; e.g., (64,) ; e.g., [9, 6, 11, 9, 7, ...., 12]\n",
    "            #y_out = column_gather(y_out, x_lengths)  # y_out gets the last hidden vector of each input: (batch, hidden_size*num_directions)\n",
    "                                                     # (64, 64*num_direction)\n",
    "                                                     # but, the last hidden vector of last character, not including padding\n",
    "                                                     # e.g., get the last hidden vetor from y_out[batch_no, 9] instead of y_out[batch_no, 18].\n",
    "\n",
    "            # uncomment code below for task 2, and comment out the line above.\n",
    "            # y_out gets the max or mean hidden vector of each input\n",
    "            y_out = column_summation(y_out, x_lengths, mode=\"mean\") \n",
    "        else:\n",
    "            y_out = y_out[:, -1, :]      # y_out gets the last hidden vector of each input: (batch, hidden_size*num_directions)\n",
    "                                         # (64, 64*num_direction)\n",
    "            \n",
    "        # with batch norm and dropout\n",
    "        # F.dropout(y_out, 0.2, training=self.training) can also be used as an alternative to self.dropout(y_out) \n",
    "        y_out = F.relu(self.bn1(self.fc1(self.dropout(y_out))))  # y_out: (64, 64*num_direction)\n",
    "\n",
    "        \n",
    "        # with dropout\n",
    "        y_out = self.fc2(self.dropout(y_out))   # y_out: (batch, 1) for binary classification\n",
    "\n",
    "        if apply_softmax:\n",
    "            y_out = torch.sigmoid(y_out)  # Use sigmoid for binary classification instead of softmax\n",
    "\n",
    "        return y_out"
   ]
  },
  {
   "cell_type": "code",
   "execution_count": null,
   "id": "0fc7e031",
   "metadata": {},
   "outputs": [],
   "source": [
    "def set_seed_everywhere(seed, cuda):\n",
    "    np.random.seed(seed)\n",
    "    torch.manual_seed(seed)\n",
    "    if cuda:\n",
    "        torch.cuda.manual_seed_all(seed)\n",
    "\n",
    "def handle_dirs(dirpath):\n",
    "    if not os.path.exists(dirpath):\n",
    "        os.makedirs(dirpath)"
   ]
  },
  {
   "cell_type": "markdown",
   "id": "997a9d50",
   "metadata": {},
   "source": [
    "## Settings"
   ]
  },
  {
   "cell_type": "code",
   "execution_count": null,
   "id": "ac262ed7",
   "metadata": {},
   "outputs": [
    {
     "name": "stdout",
     "output_type": "stream",
     "text": [
      "Using CUDA: False\n"
     ]
    }
   ],
   "source": [
    "args = Namespace(\n",
    "    # Data and path information\n",
    "    output_news_csv='Data/preprocessed_news.csv',\n",
    "    model_state_file=\"model.pth\",\n",
    "    save_dir=\"model_storage/ch6/news_classification\",\n",
    "    # Model hyper parameter\n",
    "    char_embedding_size=100,\n",
    "    rnn_hidden_size=64,\n",
    "    bidirectional=False,\n",
    "    # Training hyper parameter\n",
    "    num_epochs=10,  # Reduced from 100 to 10 for testing\n",
    "    learning_rate=1e-3,\n",
    "    batch_size=32,  # Reduced from 64 to 32 to save memory\n",
    "    seed=1337,\n",
    "    early_stopping_criteria=5,\n",
    "    # Runtime hyper parameter\n",
    "    cuda=True,\n",
    "    catch_keyboard_interrupt=True,\n",
    "    expand_filepaths_to_save_dir=True,\n",
    ")\n",
    "\n",
    "# Check CUDA\n",
    "if not torch.cuda.is_available():\n",
    "    args.cuda = False\n",
    "\n",
    "args.device = torch.device(\"cuda\" if args.cuda else \"cpu\")\n",
    "    \n",
    "print(\"Using CUDA: {}\".format(args.cuda))\n",
    "\n",
    "\n",
    "if args.expand_filepaths_to_save_dir:\n",
    "    args.model_state_file = os.path.join(args.save_dir, args.model_state_file)\n",
    "    \n",
    "# Set seed for reproducibility\n",
    "set_seed_everywhere(args.seed, args.cuda)\n",
    "\n",
    "# handle dirs\n",
    "handle_dirs(args.save_dir)"
   ]
  },
  {
   "cell_type": "code",
   "execution_count": null,
   "id": "661c3cde",
   "metadata": {},
   "outputs": [],
   "source": [
    "# create dataset and vectorizer with limited sequence length\n",
    "dataset = NewsDataset.load_dataset_and_make_vectorizer(args.output_news_csv, max_seq_length=5000)\n",
    "\n",
    "vectorizer = dataset.get_vectorizer()\n",
    "\n",
    "classifier = NewsClassifier(embedding_size=args.char_embedding_size, \n",
    "                               num_embeddings=len(vectorizer.news_vocab),\n",
    "                               num_classes=1,  # Binary classification\n",
    "                               rnn_hidden_size=args.rnn_hidden_size,\n",
    "                               padding_idx=vectorizer.news_vocab.mask_index,\n",
    "                               bidirectional=args.bidirectional)"
   ]
  },
  {
   "cell_type": "code",
   "execution_count": null,
   "id": "7bdcfa0b",
   "metadata": {},
   "outputs": [
    {
     "name": "stdout",
     "output_type": "stream",
     "text": [
      "Testing data loading...\n",
      "Original text length: 1500 words\n",
      "Vectorized length: 1503\n",
      "Vector shape: (5000,)\n",
      "Max sequence length: 5000\n",
      "Batch shape: torch.Size([2, 5000])\n",
      "Target shape: torch.Size([2])\n",
      "Length shape: torch.Size([2])\n",
      "Data loading test passed!\n"
     ]
    }
   ],
   "source": [
    "# Test data loading to ensure everything works\n",
    "print(\"Testing data loading...\")\n",
    "dataset.set_split('train')\n",
    "\n",
    "# Test vectorization with a long text\n",
    "test_text = \"This is a very long text that should be truncated properly when we vectorize it. \" * 100\n",
    "print(f\"Original text length: {len(test_text.split())} words\")\n",
    "\n",
    "vectorized, length = dataset._vectorizer.vectorize(test_text, dataset._max_seq_length)\n",
    "print(f\"Vectorized length: {length}\")\n",
    "print(f\"Vector shape: {vectorized.shape}\")\n",
    "print(f\"Max sequence length: {dataset._max_seq_length}\")\n",
    "\n",
    "# Test batch loading\n",
    "test_batch = next(iter(generate_batches(dataset, batch_size=2, device=args.device)))\n",
    "print(f\"Batch shape: {test_batch['x_data'].shape}\")\n",
    "print(f\"Target shape: {test_batch['y_target'].shape}\")\n",
    "print(f\"Length shape: {test_batch['x_length'].shape}\")\n",
    "print(\"Data loading test passed!\")\n"
   ]
  },
  {
   "cell_type": "code",
   "execution_count": null,
   "id": "a5960a23",
   "metadata": {},
   "outputs": [
    {
     "data": {
      "text/plain": [
       "5000"
      ]
     },
     "execution_count": 33,
     "metadata": {},
     "output_type": "execute_result"
    }
   ],
   "source": [
    "dataset._max_seq_length # max sequence length"
   ]
  },
  {
   "cell_type": "code",
   "execution_count": null,
   "id": "46a807c2",
   "metadata": {},
   "outputs": [
    {
     "data": {
      "text/plain": [
       "{'<MASK>': 0,\n",
       " '<UNK>': 1,\n",
       " '<BEGIN>': 2,\n",
       " '<END>': 3,\n",
       " 'jake': 4,\n",
       " 'tapper': 5,\n",
       " 'burns': 6,\n",
       " 'trump': 7,\n",
       " 'with': 8,\n",
       " 'bill': 9,\n",
       " 'maher': 10,\n",
       " 'he': 11,\n",
       " 'is': 12,\n",
       " 'empirically': 13,\n",
       " 'indecent': 14,\n",
       " 'video': 15,\n",
       " 'a': 16,\n",
       " 'lot': 17,\n",
       " 'about': 18,\n",
       " 'america': 19,\n",
       " 'has': 20,\n",
       " 'changed': 21,\n",
       " 'since': 22,\n",
       " 'the': 23,\n",
       " 'rise': 24,\n",
       " 'of': 25,\n",
       " 'donald': 26,\n",
       " 'people': 27,\n",
       " 'thought': 28,\n",
       " 'that': 29,\n",
       " 'his': 30,\n",
       " 'coarse': 31,\n",
       " 'language': 32,\n",
       " 'clear': 33,\n",
       " 'racism': 34,\n",
       " 'and': 35,\n",
       " 'misogyny': 36,\n",
       " 'just': 37,\n",
       " 'generally': 38,\n",
       " 'appalling': 39,\n",
       " 'behavior': 40,\n",
       " 'would': 41,\n",
       " 'render': 42,\n",
       " 'him': 43,\n",
       " 'unacceptable': 44,\n",
       " 'to': 45,\n",
       " 'american': 46,\n",
       " 'public': 47,\n",
       " 'yet': 48,\n",
       " 'here': 49,\n",
       " 'we': 50,\n",
       " 'are': 51,\n",
       " 'president': 52,\n",
       " 'young': 53,\n",
       " 'administration': 54,\n",
       " 'fundamentally': 55,\n",
       " 'how': 56,\n",
       " 'world': 57,\n",
       " 'views': 58,\n",
       " 'its': 59,\n",
       " 'citizens': 60,\n",
       " 'government': 61,\n",
       " 'one': 62,\n",
       " 'thing': 63,\n",
       " 'hasn': 64,\n",
       " 't': 65,\n",
       " 'though': 66,\n",
       " 'way': 67,\n",
       " 'some': 68,\n",
       " 'strident': 69,\n",
       " 'brave': 70,\n",
       " 'media': 71,\n",
       " 'personalities': 72,\n",
       " 'continue': 73,\n",
       " 'speak': 74,\n",
       " 'truth': 75,\n",
       " 'power': 76,\n",
       " 'insist': 77,\n",
       " 'on': 78,\n",
       " 'making': 79,\n",
       " 'sure': 80,\n",
       " 's': 81,\n",
       " 'disgusting': 82,\n",
       " 'ways': 83,\n",
       " 'incompetence': 84,\n",
       " 'lies': 85,\n",
       " 'don': 86,\n",
       " 'change': 87,\n",
       " 'who': 88,\n",
       " 'as': 89,\n",
       " 'perhaps': 90,\n",
       " 'breakout': 91,\n",
       " 'star': 92,\n",
       " 'in': 93,\n",
       " 'regard': 94,\n",
       " 'cnn': 95,\n",
       " 'hosts': 96,\n",
       " 'lead': 97,\n",
       " 'during': 98,\n",
       " 'week': 99,\n",
       " 'state': 100,\n",
       " 'union': 101,\n",
       " 'sunday': 102,\n",
       " 'mornings': 103,\n",
       " 'friday': 104,\n",
       " 'night': 105,\n",
       " 'fiery': 106,\n",
       " 'host': 107,\n",
       " 'stopped': 108,\n",
       " 'by': 109,\n",
       " 'hbo': 110,\n",
       " 'real': 111,\n",
       " 'time': 112,\n",
       " 'have': 113,\n",
       " 'chat': 114,\n",
       " 'course': 115,\n",
       " 'had': 116,\n",
       " 'ask': 117,\n",
       " 'changes': 118,\n",
       " 'make': 119,\n",
       " 'now': 120,\n",
       " 'there': 121,\n",
       " 'biggest': 122,\n",
       " 'liar': 123,\n",
       " 'earth': 124,\n",
       " 'occupying': 125,\n",
       " 'oval': 126,\n",
       " 'office': 127,\n",
       " 'responded': 128,\n",
       " 'you': 129,\n",
       " 've': 130,\n",
       " 'been': 131,\n",
       " 'covering': 132,\n",
       " 'politicians': 133,\n",
       " 'for': 134,\n",
       " 'long': 135,\n",
       " 'lie': 136,\n",
       " 'it': 137,\n",
       " 'wasn': 138,\n",
       " 'invented': 139,\n",
       " 'jan': 140,\n",
       " '20': 141,\n",
       " 'i': 142,\n",
       " 'never': 143,\n",
       " 'seen': 144,\n",
       " 'this': 145,\n",
       " 'level': 146,\n",
       " 'falsehood': 147,\n",
       " 'quantitatively': 148,\n",
       " 'went': 149,\n",
       " 'distinguish': 150,\n",
       " 'between': 151,\n",
       " 'what': 152,\n",
       " 'happens': 153,\n",
       " 'say': 154,\n",
       " 'falsehoods': 155,\n",
       " 'happened': 156,\n",
       " 'obama': 157,\n",
       " 'such': 158,\n",
       " 'if': 159,\n",
       " 'like': 160,\n",
       " 'your': 161,\n",
       " 'doctor': 162,\n",
       " 'can': 163,\n",
       " 'keep': 164,\n",
       " 'says': 165,\n",
       " 'coming': 166,\n",
       " 'out': 167,\n",
       " 'white': 168,\n",
       " 'house': 169,\n",
       " 'conspiracy': 170,\n",
       " 'theories': 171,\n",
       " 'based': 172,\n",
       " 'nothing': 173,\n",
       " 'members': 174,\n",
       " 'own': 175,\n",
       " 'party': 176,\n",
       " 'distancing': 177,\n",
       " 'themselves': 178,\n",
       " 'from': 179,\n",
       " 'then': 180,\n",
       " 'conversation': 181,\n",
       " 'turns': 182,\n",
       " 'vulgarity': 183,\n",
       " 'other': 184,\n",
       " 'fundamental': 185,\n",
       " 'affronts': 186,\n",
       " 'basic': 187,\n",
       " 'human': 188,\n",
       " 'decency': 189,\n",
       " 'discourse': 190,\n",
       " 'behaved': 191,\n",
       " 'campaign': 192,\n",
       " 'trail': 193,\n",
       " 'continues': 194,\n",
       " 'behave': 195,\n",
       " 'matter': 196,\n",
       " 'no': 197,\n",
       " 'bias': 198,\n",
       " 'when': 199,\n",
       " 'comes': 200,\n",
       " 'facts': 201,\n",
       " 'fun': 202,\n",
       " 'disabled': 203,\n",
       " 'my': 204,\n",
       " 'children': 205,\n",
       " 'know': 206,\n",
       " 'better': 207,\n",
       " 'than': 208,\n",
       " 'two': 209,\n",
       " 'reference': 210,\n",
       " 'all': 211,\n",
       " 'which': 212,\n",
       " 'most': 213,\n",
       " 'things': 214,\n",
       " 'so': 215,\n",
       " 'awful': 216,\n",
       " 'learn': 217,\n",
       " 'not': 218,\n",
       " 'do': 219,\n",
       " 'grade': 220,\n",
       " 'school': 221,\n",
       " 'always': 222,\n",
       " 'think': 223,\n",
       " 'book': 224,\n",
       " 'everything': 225,\n",
       " 'needed': 226,\n",
       " 'learned': 227,\n",
       " 'kindergarten': 228,\n",
       " 'violates': 229,\n",
       " 'every': 230,\n",
       " 'rule': 231,\n",
       " 'accuse': 232,\n",
       " 'they': 233,\n",
       " 're': 234,\n",
       " 'guilty': 235,\n",
       " 'boast': 236,\n",
       " 'pay': 237,\n",
       " 'taxes': 238,\n",
       " 'serve': 239,\n",
       " 'country': 240,\n",
       " 'be': 241,\n",
       " 'racist': 242,\n",
       " 'insult': 243,\n",
       " 'handicapped': 244,\n",
       " 'or': 245,\n",
       " 'lucky': 246,\n",
       " 'great': 247,\n",
       " 'looking': 248,\n",
       " 'spite': 249,\n",
       " 'these': 250,\n",
       " 'still': 251,\n",
       " 'voted': 252,\n",
       " 'sorry': 253,\n",
       " 'excuse': 254,\n",
       " 'being': 255,\n",
       " 'nation': 256,\n",
       " 'really': 257,\n",
       " 'need': 258,\n",
       " 'examine': 259,\n",
       " 'should': 260,\n",
       " 'survive': 261,\n",
       " 'nightmare': 262,\n",
       " 'presidency': 263,\n",
       " 'watch': 264,\n",
       " 'below': 265,\n",
       " 'featured': 266,\n",
       " 'image': 267,\n",
       " 'via': 268,\n",
       " 'scott': 269,\n",
       " 'eisen': 270,\n",
       " 'getty': 271,\n",
       " 'images': 272,\n",
       " 'news': 273,\n",
       " 'buried': 274,\n",
       " 'aide': 275,\n",
       " 'leftist': 276,\n",
       " 'us': 277,\n",
       " 'congressman': 278,\n",
       " 'sander': 279,\n",
       " 'levin': 280,\n",
       " 'd': 281,\n",
       " 'mi': 282,\n",
       " 'arrested': 283,\n",
       " 'brutally': 284,\n",
       " 'beating': 285,\n",
       " 'male': 286,\n",
       " 'lover': 287,\n",
       " 'shovel': 288,\n",
       " 'want': 289,\n",
       " 'kill': 290,\n",
       " 'die': 291,\n",
       " 'dirty': 292,\n",
       " 'faggy': 293,\n",
       " 'muslims': 294,\n",
       " 'cornered': 295,\n",
       " 'market': 296,\n",
       " 'abusing': 297,\n",
       " 'gays': 298,\n",
       " 'won': 299,\n",
       " 'see': 300,\n",
       " 'story': 301,\n",
       " 'mainstream': 302,\n",
       " 'please': 303,\n",
       " 'feel': 304,\n",
       " 'free': 305,\n",
       " 'share': 306,\n",
       " 'baltimore': 307,\n",
       " 'city': 308,\n",
       " 'police': 309,\n",
       " 'an': 310,\n",
       " 'rep': 311,\n",
       " 'm': 312,\n",
       " 'mich': 313,\n",
       " 'at': 314,\n",
       " 'around': 315,\n",
       " '2': 316,\n",
       " '30': 317,\n",
       " 'oct': 318,\n",
       " '8': 319,\n",
       " 'criminal': 320,\n",
       " 'domestic': 321,\n",
       " 'violence': 322,\n",
       " 'charges': 323,\n",
       " 'tim': 324,\n",
       " 'foster': 325,\n",
       " 'native': 326,\n",
       " 'henderson': 327,\n",
       " 'ky': 328,\n",
       " 'beat': 329,\n",
       " 'small': 330,\n",
       " 'black': 331,\n",
       " 'red': 332,\n",
       " 'according': 333,\n",
       " 'report': 334,\n",
       " 'obtained': 335,\n",
       " 'cq': 336,\n",
       " 'roll': 337,\n",
       " 'call': 338,\n",
       " 'leaving': 339,\n",
       " 'victim': 340,\n",
       " 'hospitalized': 341,\n",
       " 'abrasions': 342,\n",
       " 'bruises': 343,\n",
       " 'upper': 344,\n",
       " 'back': 345,\n",
       " 'neck': 346,\n",
       " 'torso': 347,\n",
       " 'dispute': 348,\n",
       " 'started': 349,\n",
       " '12': 350,\n",
       " 'inside': 351,\n",
       " 'northwest': 352,\n",
       " 'home': 353,\n",
       " '32': 354,\n",
       " 'got': 355,\n",
       " 'into': 356,\n",
       " 'verbal': 357,\n",
       " 'argument': 358,\n",
       " '39': 359,\n",
       " 'year': 360,\n",
       " 'old': 361,\n",
       " 'identified': 362,\n",
       " 'boyfriend': 363,\n",
       " 'put': 364,\n",
       " 'choke': 365,\n",
       " 'hold': 366,\n",
       " 'stated': 367,\n",
       " 'man': 368,\n",
       " 'later': 369,\n",
       " 'told': 370,\n",
       " 'released': 371,\n",
       " 'allegedly': 372,\n",
       " 'grabbed': 373,\n",
       " 'stainless': 374,\n",
       " 'kitchen': 375,\n",
       " 'knife': 376,\n",
       " 'fled': 377,\n",
       " 'toward': 378,\n",
       " 'stairs': 379,\n",
       " 'chased': 380,\n",
       " 'warned': 381,\n",
       " 'reach': 382,\n",
       " 'fifth': 383,\n",
       " 'step': 384,\n",
       " 'am': 385,\n",
       " 'going': 386,\n",
       " 'stab': 387,\n",
       " 'lunged': 388,\n",
       " 'but': 389,\n",
       " 'wife': 390,\n",
       " 'fell': 391,\n",
       " 'floor': 392,\n",
       " 'states': 393,\n",
       " 'attempted': 394,\n",
       " 'escape': 395,\n",
       " 'property': 396,\n",
       " 'was': 397,\n",
       " 'again': 398,\n",
       " 'assaulted': 399,\n",
       " 'struck': 400,\n",
       " 'continued': 401,\n",
       " 'assault': 402,\n",
       " 'until': 403,\n",
       " 'vehicle': 404,\n",
       " 'memorial': 405,\n",
       " 'hospital': 406,\n",
       " 'where': 407,\n",
       " 'spoke': 408,\n",
       " 'placed': 409,\n",
       " 'under': 410,\n",
       " 'arrest': 411,\n",
       " 'early': 412,\n",
       " 'thursday': 413,\n",
       " 'morning': 414,\n",
       " 'locked': 415,\n",
       " 'up': 416,\n",
       " 'county': 417,\n",
       " 'detention': 418,\n",
       " 'center': 419,\n",
       " 'submitted': 420,\n",
       " 'evidence': 421,\n",
       " 'court': 422,\n",
       " 'records': 423,\n",
       " 'show': 424,\n",
       " 'committed': 425,\n",
       " 'overnight': 426,\n",
       " 'faces': 427,\n",
       " 'second': 428,\n",
       " 'degree': 429,\n",
       " 'dangerous': 430,\n",
       " 'weapons': 431,\n",
       " 'employed': 432,\n",
       " 'seven': 433,\n",
       " 'years': 434,\n",
       " 'current': 435,\n",
       " 'post': 436,\n",
       " 'online': 437,\n",
       " 'communication': 438,\n",
       " 'manager': 439,\n",
       " 'may': 440,\n",
       " '2013': 441,\n",
       " 'wake': 442,\n",
       " 'incident': 443,\n",
       " 'unpaid': 444,\n",
       " 'leave': 445,\n",
       " 'politics': 446,\n",
       " 'clown': 447,\n",
       " 'cries': 448,\n",
       " 'fake': 449,\n",
       " 'uses': 450,\n",
       " 'unverified': 451,\n",
       " 'push': 452,\n",
       " 'islamaphobia': 453,\n",
       " 'viewers': 454,\n",
       " 'youtube': 455,\n",
       " 'prankster': 456,\n",
       " 'named': 457,\n",
       " 'adam': 458,\n",
       " 'saleh': 459,\n",
       " 'claiming': 460,\n",
       " 'kicked': 461,\n",
       " 'off': 462,\n",
       " 'delta': 463,\n",
       " 'flight': 464,\n",
       " 'speaking': 465,\n",
       " 'arabic': 466,\n",
       " 'airline': 467,\n",
       " 'concluded': 468,\n",
       " 'investigation': 469,\n",
       " 'engaging': 470,\n",
       " 'provacative': 471,\n",
       " 'https': 472,\n",
       " 'www': 473,\n",
       " 'com': 474,\n",
       " 'v': 475,\n",
       " '5': 476,\n",
       " 's5gs0i4uw': 477,\n",
       " 'interview': 478,\n",
       " 'hill': 479,\n",
       " 'reporter': 480,\n",
       " 'former': 481,\n",
       " 'mediaite': 482,\n",
       " 'columnist': 483,\n",
       " 'joe': 484,\n",
       " 'concha': 485,\n",
       " 'carlson': 486,\n",
       " 'said': 487,\n",
       " 'stelter': 488,\n",
       " 'regularly': 489,\n",
       " 'urges': 490,\n",
       " 'organizations': 491,\n",
       " 'proceed': 492,\n",
       " 'caution': 493,\n",
       " 'cases': 494,\n",
       " 'failed': 495,\n",
       " 'practice': 496,\n",
       " 'preaches': 497,\n",
       " 'googling': 498,\n",
       " 'discover': 499,\n",
       " 'history': 500,\n",
       " 'posting': 501,\n",
       " 'similar': 502,\n",
       " 'videos': 503,\n",
       " 'mediaitein': 504,\n",
       " 'statement': 505,\n",
       " 'customers': 506,\n",
       " 'were': 507,\n",
       " 'removed': 508,\n",
       " 'rebooked': 509,\n",
       " 'after': 510,\n",
       " 'disturbance': 511,\n",
       " 'cabin': 512,\n",
       " 'resulted': 513,\n",
       " 'more': 514,\n",
       " 'expressing': 515,\n",
       " 'their': 516,\n",
       " 'discomfort': 517,\n",
       " 'conducting': 518,\n",
       " 'full': 519,\n",
       " 'review': 520,\n",
       " 'understand': 521,\n",
       " 'transpired': 522,\n",
       " 'taking': 523,\n",
       " 'allegations': 524,\n",
       " 'discrimination': 525,\n",
       " 'very': 526,\n",
       " 'seriously': 527,\n",
       " 'our': 528,\n",
       " 'culture': 529,\n",
       " 'requires': 530,\n",
       " 'treating': 531,\n",
       " 'others': 532,\n",
       " 'respect': 533,\n",
       " '1': 534,\n",
       " '6': 535,\n",
       " 'million': 536,\n",
       " 'subscribers': 537,\n",
       " 'truestoryasa': 538,\n",
       " 'channel': 539,\n",
       " 'vlogs': 540,\n",
       " 'channels': 541,\n",
       " 'prank': 542,\n",
       " 'well': 543,\n",
       " 'muslim': 544,\n",
       " 'life': 545,\n",
       " 'self': 546,\n",
       " 'described': 547,\n",
       " 'professional': 548,\n",
       " 'idiot': 549,\n",
       " 'twitter': 550,\n",
       " 'deltaclick': 551,\n",
       " 'facebookcall': 552,\n",
       " '800': 553,\n",
       " '221': 554,\n",
       " '1212': 555,\n",
       " 'customer': 556,\n",
       " 'servicelet': 557,\n",
       " 'airlines': 558,\n",
       " 'stand': 559,\n",
       " 'decision': 560,\n",
       " 'pranksters': 561,\n",
       " 'because': 562,\n",
       " 'terrorism': 563,\n",
       " 'islamic': 564,\n",
       " 'radicals': 565,\n",
       " 'against': 566,\n",
       " 'innocent': 567,\n",
       " 'laughing': 568,\n",
       " 'delusional': 569,\n",
       " 'divided': 570,\n",
       " 'become': 571,\n",
       " 'least': 572,\n",
       " 'civil': 573,\n",
       " 'war': 574,\n",
       " 'veterans': 575,\n",
       " 'cozy': 576,\n",
       " 'relationship': 577,\n",
       " 'russian': 578,\n",
       " 'hackers': 579,\n",
       " 'cause': 580,\n",
       " 'alarm': 581,\n",
       " 'military': 582,\n",
       " 'extreme': 583,\n",
       " 'concerns': 584,\n",
       " 'reaction': 585,\n",
       " 'revelation': 586,\n",
       " 'employ': 587,\n",
       " 'russia': 588,\n",
       " 'stole': 589,\n",
       " 'information': 590,\n",
       " 'democrats': 591,\n",
       " 'passed': 592,\n",
       " 'wikileaks': 593,\n",
       " 'attempt': 594,\n",
       " 'influence': 595,\n",
       " 'result': 596,\n",
       " 'election': 597,\n",
       " 'while': 598,\n",
       " 'congressional': 599,\n",
       " 'republicans': 600,\n",
       " 'down': 601,\n",
       " 'played': 602,\n",
       " 'pushing': 603,\n",
       " 'retired': 604,\n",
       " 'major': 605,\n",
       " 'general': 606,\n",
       " 'paul': 607,\n",
       " 'eaton': 608,\n",
       " 'senior': 609,\n",
       " 'adviser': 610,\n",
       " 'votevets': 611,\n",
       " 'org': 612,\n",
       " 'blasting': 613,\n",
       " 'republican': 614,\n",
       " 'moment': 615,\n",
       " 'elect': 616,\n",
       " 'united': 617,\n",
       " 'enamored': 618,\n",
       " 'regime': 619,\n",
       " 'national': 620,\n",
       " 'security': 621,\n",
       " 'potential': 622,\n",
       " 'secretary': 623,\n",
       " 'find': 624,\n",
       " 'interfered': 625,\n",
       " 'help': 626,\n",
       " 'side': 627,\n",
       " 'join': 628,\n",
       " 'senator': 629,\n",
       " 'wyden': 630,\n",
       " 'intelligence': 631,\n",
       " 'committee': 632,\n",
       " 'calling': 633,\n",
       " 'materials': 634,\n",
       " 'hacking': 635,\n",
       " 'declassified': 636,\n",
       " 'immediately': 637,\n",
       " 'also': 638,\n",
       " 'group': 639,\n",
       " '10': 640,\n",
       " 'electoral': 641,\n",
       " 'college': 642,\n",
       " 'recently': 643,\n",
       " 'asked': 644,\n",
       " 'turned': 645,\n",
       " 'over': 646,\n",
       " 'them': 647,\n",
       " 'tell': 648,\n",
       " 'cia': 649,\n",
       " 'found': 650,\n",
       " 'deserve': 651,\n",
       " 'those': 652,\n",
       " 'right': 653,\n",
       " 'asks': 654,\n",
       " 'did': 655,\n",
       " 'anyone': 656,\n",
       " 'connected': 657,\n",
       " 'plot': 658,\n",
       " 'manipulate': 659,\n",
       " 'outcome': 660,\n",
       " '2016': 661,\n",
       " 'induce': 662,\n",
       " 'fear': 663,\n",
       " 'millions': 664,\n",
       " 'americans': 665,\n",
       " 'telling': 666,\n",
       " 'among': 667,\n",
       " 'concern': 668,\n",
       " 'actions': 669,\n",
       " 'putin': 670,\n",
       " 'dire': 671,\n",
       " 'terms': 672,\n",
       " 'fresh': 673,\n",
       " 'partisan': 674,\n",
       " 'benghazi': 675,\n",
       " 'largely': 676,\n",
       " 'whipped': 677,\n",
       " 'attack': 678,\n",
       " 'hillary': 679,\n",
       " 'clinton': 680,\n",
       " 'slow': 681,\n",
       " 'walked': 682,\n",
       " 'responses': 683,\n",
       " 'actively': 684,\n",
       " 'opposing': 685,\n",
       " 'any': 686,\n",
       " 'sort': 687,\n",
       " 'could': 688,\n",
       " 'harm': 689,\n",
       " 'nyc': 690,\n",
       " 'parks': 691,\n",
       " 'rec': 692,\n",
       " 'mocks': 693,\n",
       " 'remove': 694,\n",
       " 'naked': 695,\n",
       " 'statue': 696,\n",
       " 'reported': 697,\n",
       " 'earlier': 698,\n",
       " 'statues': 699,\n",
       " 'appearing': 700,\n",
       " 'artists': 701,\n",
       " 'installations': 702,\n",
       " 'through': 703,\n",
       " 'sculptures': 704,\n",
       " 'behind': 705,\n",
       " 'physical': 706,\n",
       " 'metaphorical': 707,\n",
       " 'embodiment': 708,\n",
       " 'ghastly': 709,\n",
       " 'soul': 710,\n",
       " 'infamous': 711,\n",
       " 'reviled': 712,\n",
       " 'ain': 713,\n",
       " 'interestingly': 714,\n",
       " 'enough': 715,\n",
       " 'depiction': 716,\n",
       " 'estate': 717,\n",
       " 'mogul': 718,\n",
       " 'reality': 719,\n",
       " 'television': 720,\n",
       " 'egomaniac': 721,\n",
       " 'likely': 722,\n",
       " 'remarkably': 723,\n",
       " 'lifelike': 724,\n",
       " 'take': 725,\n",
       " 'look': 726,\n",
       " 'sculpture': 727,\n",
       " 'new': 728,\n",
       " 'york': 729,\n",
       " 'square': 730,\n",
       " 'o': 731,\n",
       " 'whoever': 732,\n",
       " 'installed': 733,\n",
       " 'last': 734,\n",
       " 'pic': 735,\n",
       " 'cldd4qkgyi': 736,\n",
       " 'jamesmichael': 737,\n",
       " 'nichols': 738,\n",
       " 'august': 739,\n",
       " '18': 740,\n",
       " '2016clearly': 741,\n",
       " 'kinda': 742,\n",
       " 'sorta': 743,\n",
       " 'inappropriate': 744,\n",
       " 'entertaining': 745,\n",
       " 'hilarious': 746,\n",
       " 'however': 747,\n",
       " 'knowing': 748,\n",
       " 'couldn': 749,\n",
       " 'stay': 750,\n",
       " 'recreation': 751,\n",
       " 'department': 752,\n",
       " 'issued': 753,\n",
       " 'stands': 754,\n",
       " 'firmly': 755,\n",
       " 'unpermitted': 756,\n",
       " 'erection': 757,\n",
       " 'nude': 758,\n",
       " 'co': 759,\n",
       " 'hrb03msy0g': 760,\n",
       " 'ucyzaxztm7': 761,\n",
       " 'associated': 762,\n",
       " 'press': 763,\n",
       " 'ap': 764,\n",
       " '2016boom': 765,\n",
       " 'ha': 766,\n",
       " 'remark': 767,\n",
       " 'especially': 768,\n",
       " 'kind': 769,\n",
       " 'slap': 770,\n",
       " 'face': 771,\n",
       " 'narcissism': 772,\n",
       " 'constant': 773,\n",
       " 'attention': 774,\n",
       " 'talking': 775,\n",
       " 'plans': 776,\n",
       " 'best': 777,\n",
       " 'pretty': 778,\n",
       " 'obvious': 779,\n",
       " 'overcompensating': 780,\n",
       " 'something': 781,\n",
       " 'installation': 782,\n",
       " 'seem': 783,\n",
       " 'good': 784,\n",
       " 'idea': 785,\n",
       " 'photo': 786,\n",
       " 'spencer': 787,\n",
       " 'platt': 788,\n",
       " 'wow': 789,\n",
       " 'political': 790,\n",
       " 'organization': 791,\n",
       " 'takes': 792,\n",
       " 'credit': 793,\n",
       " 'dallas': 794,\n",
       " 'cop': 795,\n",
       " 'slayings': 796,\n",
       " 'facebook': 797,\n",
       " 'page': 798,\n",
       " 'shows': 799,\n",
       " 'snipers': 800,\n",
       " 'killed': 801,\n",
       " 'law': 802,\n",
       " 'enforcement': 803,\n",
       " 'officers': 804,\n",
       " 'yesterday': 805,\n",
       " 'shut': 806,\n",
       " 'managed': 807,\n",
       " 'capture': 808,\n",
       " 'screen': 809,\n",
       " 'shot': 810,\n",
       " 'comments': 811,\n",
       " 'few': 812,\n",
       " 'posts': 813,\n",
       " 'chance': 814,\n",
       " 'shuts': 815,\n",
       " 'bppo': 816,\n",
       " 'blackpower': 817,\n",
       " 'blackknights': 818,\n",
       " 'mission': 819,\n",
       " 'africa': 820,\n",
       " 'countries': 821,\n",
       " 'non': 822,\n",
       " 'control': 823,\n",
       " 'give': 824,\n",
       " 'opportunity': 825,\n",
       " 'develop': 826,\n",
       " 'powerful': 827,\n",
       " 'patriotic': 828,\n",
       " 'pro': 829,\n",
       " 'pan': 830,\n",
       " 'african': 831,\n",
       " 'leaders': 832,\n",
       " 'job': 833,\n",
       " 'avoid': 834,\n",
       " 'corruption': 835,\n",
       " 'bribery': 836,\n",
       " 'exploitation': 837,\n",
       " 'form': 838,\n",
       " 'ailments': 839,\n",
       " 'preventing': 840,\n",
       " 'reaching': 841,\n",
       " 'accomplish': 842,\n",
       " 'goal': 843,\n",
       " 'will': 844,\n",
       " 'working': 845,\n",
       " 'protection': 846,\n",
       " 'agency': 847,\n",
       " 'aka': 848,\n",
       " 'knights': 849,\n",
       " 'trained': 850,\n",
       " 'sniper': 851,\n",
       " 'assassins': 852,\n",
       " 'tens': 853,\n",
       " 'thousands': 854,\n",
       " 'located': 855,\n",
       " 'responsible': 856,\n",
       " 'fail': 857,\n",
       " 'equal': 858,\n",
       " 'rights': 859,\n",
       " 'justice': 860,\n",
       " 'relentlessly': 861,\n",
       " 'target': 862,\n",
       " 'assassinate': 863,\n",
       " 'influential': 864,\n",
       " 'families': 865,\n",
       " 'refuse': 866,\n",
       " 'finance': 867,\n",
       " 'taxation': 868,\n",
       " 'means': 869,\n",
       " 'yourself': 870,\n",
       " 'use': 871,\n",
       " 'economic': 872,\n",
       " 'sanctions': 873,\n",
       " 'exploit': 874,\n",
       " 'destroy': 875,\n",
       " 'economy': 876,\n",
       " 'terrorist': 877,\n",
       " 'only': 878,\n",
       " 'controlling': 879,\n",
       " 'methods': 880,\n",
       " 'western': 881,\n",
       " 'governments': 882,\n",
       " 'stop': 883,\n",
       " 'oppress': 884,\n",
       " 'example': 885,\n",
       " 'independent': 886,\n",
       " 'assassin': 887,\n",
       " 'dying': 888,\n",
       " 'losing': 889,\n",
       " 'love': 890,\n",
       " 'ones': 891,\n",
       " 'force': 892,\n",
       " 'someone': 893,\n",
       " 'close': 894,\n",
       " 'eg': 895,\n",
       " 'friends': 896,\n",
       " 'workers': 897,\n",
       " 'family': 898,\n",
       " 'etc': 899,\n",
       " 'poisoning': 900,\n",
       " 'playing': 901,\n",
       " 'choice': 902,\n",
       " 'play': 903,\n",
       " 'thank': 904,\n",
       " 'amazing': 905,\n",
       " 'nick': 906,\n",
       " 'short': 907,\n",
       " 'h': 908,\n",
       " 'left': 909,\n",
       " 'makes': 910,\n",
       " 'unprecedented': 911,\n",
       " 'move': 912,\n",
       " 'protect': 913,\n",
       " 'details': 914,\n",
       " 'barack': 915,\n",
       " 'knows': 916,\n",
       " 'doesn': 917,\n",
       " 'hell': 918,\n",
       " 'doing': 919,\n",
       " 'putting': 920,\n",
       " 'actually': 921,\n",
       " 'trying': 922,\n",
       " 'figure': 923,\n",
       " 'ropes': 924,\n",
       " 'agreed': 925,\n",
       " 'little': 926,\n",
       " 'orange': 927,\n",
       " 'hands': 928,\n",
       " 'remain': 929,\n",
       " 'guide': 930,\n",
       " 'transition': 931,\n",
       " 'period': 932,\n",
       " 'made': 933,\n",
       " 'save': 934,\n",
       " 'deadly': 935,\n",
       " 'monday': 936,\n",
       " 'beloved': 937,\n",
       " 'commander': 938,\n",
       " 'chief': 939,\n",
       " 'memo': 940,\n",
       " 'basically': 941,\n",
       " 'guidebook': 942,\n",
       " 'dummies': 943,\n",
       " 'document': 944,\n",
       " 'lays': 945,\n",
       " 'specific': 946,\n",
       " 'related': 947,\n",
       " 'topics': 948,\n",
       " 'first': 949,\n",
       " 'ever': 950,\n",
       " 'prevent': 951,\n",
       " 'completely': 952,\n",
       " 'unqualified': 953,\n",
       " 'person': 954,\n",
       " 'destroying': 955,\n",
       " 'washington': 956,\n",
       " 'eve': 957,\n",
       " 'promised': 958,\n",
       " 'aggressive': 959,\n",
       " 'counterterrorism': 960,\n",
       " 'operations': 961,\n",
       " 'lengthy': 962,\n",
       " 'compendium': 963,\n",
       " 'policies': 964,\n",
       " 'governing': 965,\n",
       " '61': 966,\n",
       " 'outlines': 967,\n",
       " 'eight': 968,\n",
       " 'legal': 969,\n",
       " 'opinions': 970,\n",
       " 'executive': 971,\n",
       " 'orders': 972,\n",
       " 'directives': 973,\n",
       " 'strong': 974,\n",
       " 'defense': 975,\n",
       " 'lists': 976,\n",
       " 'rules': 977,\n",
       " 'lethal': 978,\n",
       " 'drones': 979,\n",
       " 'describes': 980,\n",
       " 'international': 981,\n",
       " 'undergirds': 982,\n",
       " 'introduction': 983,\n",
       " 'created': 984,\n",
       " 'reduce': 985,\n",
       " 'risk': 986,\n",
       " 'ill': 987,\n",
       " 'considered': 988,\n",
       " 'observation': 989,\n",
       " 'lack': 990,\n",
       " 'emotional': 991,\n",
       " 'stability': 992,\n",
       " 'impulsive': 993,\n",
       " 'erratic': 994,\n",
       " 'wrote': 995,\n",
       " 'hate': 996,\n",
       " 'critical': 997,\n",
       " 'much': 998,\n",
       " 'possible': 999,\n",
       " ...}"
      ]
     },
     "execution_count": 34,
     "metadata": {},
     "output_type": "execute_result"
    }
   ],
   "source": [
    "vectorizer.news_vocab._token_to_idx"
   ]
  },
  {
   "cell_type": "code",
   "execution_count": null,
   "id": "4ee3bda5",
   "metadata": {},
   "outputs": [
    {
     "data": {
      "text/plain": [
       "{False: 0, True: 1}"
      ]
     },
     "execution_count": 35,
     "metadata": {},
     "output_type": "execute_result"
    }
   ],
   "source": [
    "vectorizer.label_vocab._token_to_idx"
   ]
  },
  {
   "cell_type": "markdown",
   "id": "751ae98d",
   "metadata": {},
   "source": [
    "## Training Routine"
   ]
  },
  {
   "cell_type": "code",
   "execution_count": null,
   "id": "1cc5e020",
   "metadata": {},
   "outputs": [],
   "source": [
    "def make_train_state(args):\n",
    "    return {'stop_early': False,\n",
    "            'early_stopping_step': 0,\n",
    "            'early_stopping_best_val': 1e8,\n",
    "            'learning_rate': args.learning_rate,\n",
    "            'epoch_index': 0,\n",
    "            'train_loss': [],\n",
    "            'train_acc': [],\n",
    "            'val_loss': [],\n",
    "            'val_acc': [],\n",
    "            'test_loss': -1,\n",
    "            'test_acc': -1,\n",
    "            'model_filename': args.model_state_file}\n",
    "\n",
    "\n",
    "def update_train_state(args, model, train_state):\n",
    "    \"\"\"Handle the training state updates.\n",
    "\n",
    "    Components:\n",
    "     - Early Stopping: Prevent overfitting.\n",
    "     - Model Checkpoint: Model is saved if the model is better\n",
    "    \n",
    "    :param args: main arguments\n",
    "    :param model: model to train\n",
    "    :param train_state: a dictionary representing the training state values\n",
    "    :returns:\n",
    "        a new train_state\n",
    "    \"\"\"\n",
    "\n",
    "    # Save one model at least\n",
    "    if train_state['epoch_index'] == 0:\n",
    "        torch.save(model.state_dict(), train_state['model_filename'])\n",
    "        train_state['stop_early'] = False\n",
    "\n",
    "    # Save model if performance improved\n",
    "    elif train_state['epoch_index'] >= 1:\n",
    "        loss_tm1, loss_t = train_state['val_loss'][-2:]\n",
    "         \n",
    "        # If loss worsened\n",
    "        #if loss_t >= loss_tm1: # if current loss becomes smaller than the previous loss, early_stopping_step is reset to 0.\n",
    "                                # this statement makes the model training time longer, compared to the statement below. \n",
    "        if loss_t >= train_state['early_stopping_best_val']:  # curent loss is compared with early_stopping_best_val loss value\n",
    "            # Update step\n",
    "            train_state['early_stopping_step'] += 1\n",
    "        # Loss decreased\n",
    "        else:\n",
    "            # Save the best model\n",
    "            if loss_t < train_state['early_stopping_best_val']:\n",
    "                torch.save(model.state_dict(), train_state['model_filename'])\n",
    "                train_state['early_stopping_best_val'] = loss_t\n",
    "\n",
    "            # Reset early stopping step\n",
    "            train_state['early_stopping_step'] = 0\n",
    "\n",
    "        # Stop early ?\n",
    "        train_state['stop_early'] = \\\n",
    "            train_state['early_stopping_step'] >= args.early_stopping_criteria\n",
    "\n",
    "    return train_state\n",
    "\n",
    "\n",
    "def compute_accuracy(y_pred, y_target, threshold=0.5):\n",
    "\n",
    "    \"\"\"Compute accuracy for binary classification\"\"\"\n",
    "\n",
    "    # Convert predictions to probabilities using sigmoid\n",
    "    y_prob = torch.sigmoid(y_pred)\n",
    "    # Convert probabilities to binary predictions\n",
    "    y_pred_class = (y_prob > threshold).float()\n",
    "    # Ensure targets are float for comparison\n",
    "    y_target_float = y_target.float()\n",
    "    # Calculate accuracy\n",
    "    correct = (y_pred_class == y_target_float).sum().item()\n",
    "    total = y_target_float.size(0)\n",
    "    return correct / total * 100"
   ]
  },
  {
   "cell_type": "code",
   "execution_count": null,
   "id": "35b5f774",
   "metadata": {},
   "outputs": [
    {
     "name": "stdout",
     "output_type": "stream",
     "text": [
      "Dataset info:\n",
      "  Train size: 31427\n",
      "  Val size: 6734\n",
      "  Test size: 6737\n",
      "  Max sequence length: 5000\n",
      "  Batch size: 32\n",
      "  Train batches: 982\n"
     ]
    },
    {
     "data": {
      "application/vnd.jupyter.widget-view+json": {
       "model_id": "e3aedd05dfd44262b168038a88c53e8c",
       "version_major": 2,
       "version_minor": 0
      },
      "text/plain": [
       "training routine:   0%|          | 0/10 [00:00<?, ?it/s]"
      ]
     },
     "metadata": {},
     "output_type": "display_data"
    },
    {
     "data": {
      "application/vnd.jupyter.widget-view+json": {
       "model_id": "acd1a8094e4e405198acc8edfbfb957b",
       "version_major": 2,
       "version_minor": 0
      },
      "text/plain": [
       "split=train:   0%|          | 0/982 [00:00<?, ?it/s]"
      ]
     },
     "metadata": {},
     "output_type": "display_data"
    },
    {
     "data": {
      "application/vnd.jupyter.widget-view+json": {
       "model_id": "57cd4db397a34cc38c66a1b0db326aef",
       "version_major": 2,
       "version_minor": 0
      },
      "text/plain": [
       "split=val:   0%|          | 0/210 [00:00<?, ?it/s]"
      ]
     },
     "metadata": {},
     "output_type": "display_data"
    },
    {
     "name": "stdout",
     "output_type": "stream",
     "text": [
      "Exiting loop\n"
     ]
    }
   ],
   "source": [
    "classifier = classifier.to(args.device)\n",
    "dataset.class_weights = dataset.class_weights.to(args.device)\n",
    "    \n",
    "loss_func = nn.BCEWithLogitsLoss()\n",
    "optimizer = optim.Adam(classifier.parameters(), lr=args.learning_rate)\n",
    "scheduler = optim.lr_scheduler.ReduceLROnPlateau(optimizer=optimizer, mode='min', factor=0.1, patience=10)\n",
    "\n",
    "train_state = make_train_state(args)\n",
    "\n",
    "# Print dataset info for debugging\n",
    "print(f\"Dataset info:\")\n",
    "print(f\"  Train size: {dataset.train_size}\")\n",
    "print(f\"  Val size: {dataset.validation_size}\")\n",
    "print(f\"  Test size: {dataset.test_size}\")\n",
    "print(f\"  Max sequence length: {dataset._max_seq_length}\")\n",
    "print(f\"  Batch size: {args.batch_size}\")\n",
    "print(f\"  Train batches: {dataset.get_num_batches(args.batch_size)}\")\n",
    "\n",
    "epoch_bar = tqdm(desc='training routine', total=args.num_epochs, position=0)\n",
    "\n",
    "dataset.set_split('train')\n",
    "train_bar = tqdm(desc='split=train', total=dataset.get_num_batches(args.batch_size), position=1, leave=True)\n",
    "\n",
    "dataset.set_split('val')\n",
    "val_bar = tqdm(desc='split=val', total=dataset.get_num_batches(args.batch_size), position=1, leave=True)\n",
    "\n",
    "try:\n",
    "\n",
    "    for epoch_index in range(args.num_epochs):\n",
    "        train_state['epoch_index'] = epoch_index\n",
    "\n",
    "        # Iterate over training dataset\n",
    "\n",
    "        # setup: batch generator, set loss and acc to 0, set train mode on\n",
    "        dataset.set_split('train')\n",
    "        batch_generator = generate_batches(dataset, \n",
    "                                           batch_size=args.batch_size, \n",
    "                                           device=args.device)\n",
    "        running_loss = 0.0\n",
    "        running_acc = 0.0\n",
    "        classifier.train()\n",
    "\n",
    "        for batch_index, batch_dict in enumerate(batch_generator):\n",
    "            # the training routine is these 5 steps:\n",
    "\n",
    "            # --------------------------------------    \n",
    "            # step 1. zero the gradients\n",
    "            optimizer.zero_grad()\n",
    "\n",
    "            # step 2. compute the output\n",
    "            y_pred = classifier(x_in=batch_dict['x_data'], \n",
    "                        x_lengths=batch_dict['x_length'])\n",
    "\n",
    "            # 2. 修正 Target 形状并计算 Loss (使用前面建议的修正)\n",
    "            y_target = batch_dict['y_target'].float().unsqueeze(1) \n",
    "            loss = loss_func(y_pred, y_target) \n",
    "    \n",
    "            running_loss += (loss.item() - running_loss) / (batch_index + 1)\n",
    "\n",
    "            # step 4. use loss to produce gradients\n",
    "            loss.backward()\n",
    "\n",
    "            # step 5. use optimizer to take gradient step\n",
    "            optimizer.step()\n",
    "            # -----------------------------------------\n",
    "            # compute the accuracy\n",
    "            acc_t = compute_accuracy(y_pred, y_target)\n",
    "            running_acc += (acc_t - running_acc) / (batch_index + 1)\n",
    "\n",
    "            # update bar\n",
    "            train_bar.set_postfix(loss=running_loss, acc=running_acc, epoch=epoch_index)\n",
    "            train_bar.update()\n",
    "\n",
    "        train_state['train_loss'].append(running_loss)\n",
    "        train_state['train_acc'].append(running_acc)\n",
    "\n",
    "        # Iterate over val dataset\n",
    "\n",
    "        # setup: batch generator, set loss and acc to 0; set eval mode on\n",
    "\n",
    "        dataset.set_split('val')\n",
    "        batch_generator = generate_batches(dataset, \n",
    "                                           batch_size=args.batch_size, \n",
    "                                           device=args.device)\n",
    "        running_loss = 0.\n",
    "        running_acc = 0.\n",
    "        classifier.eval()\n",
    "\n",
    "        with torch.no_grad():  # Disable gradient computation\n",
    "          for batch_index, batch_dict in enumerate(batch_generator):\n",
    "            # compute the output\n",
    "            y_pred = classifier(x_in=batch_dict['x_data'], \n",
    "                        x_lengths=batch_dict['x_length'])\n",
    "\n",
    "            # 2. 修正 Target 形状并计算 Loss (使用前面建议的修正)\n",
    "            y_target = batch_dict['y_target'].float().unsqueeze(1) \n",
    "            loss = loss_func(y_pred, y_target) \n",
    "            running_loss += (loss.item() - running_loss) / (batch_index + 1)\n",
    "\n",
    "            # compute the accuracy\n",
    "            acc_t = compute_accuracy(y_pred, y_target)\n",
    "            running_acc += (acc_t - running_acc) / (batch_index + 1)\n",
    "            val_bar.set_postfix(loss=running_loss, acc=running_acc, epoch=epoch_index)\n",
    "            val_bar.update()\n",
    "\n",
    "        train_state['val_loss'].append(running_loss)\n",
    "        train_state['val_acc'].append(running_acc)\n",
    "\n",
    "        train_state = update_train_state(args=args, model=classifier, \n",
    "                                         train_state=train_state)\n",
    "\n",
    "        scheduler.step(train_state['val_loss'][-1])\n",
    "\n",
    "        train_bar.reset()\n",
    "        val_bar.reset()\n",
    "        epoch_bar.update()\n",
    "\n",
    "        if train_state['stop_early']:\n",
    "            break\n",
    "            \n",
    "except KeyboardInterrupt:\n",
    "    print(\"Exiting loop\")"
   ]
  },
  {
   "cell_type": "code",
   "execution_count": null,
   "id": "71a00e5e",
   "metadata": {},
   "outputs": [
    {
     "data": {
      "application/vnd.plotly.v1+json": {
       "config": {
        "plotlyServerURL": "https://plot.ly"
       },
       "data": [
        {
         "line": {
          "color": "blue"
         },
         "mode": "lines+markers",
         "name": "Training Loss",
         "type": "scatter",
         "x": [
          1,
          2,
          3,
          4,
          5,
          6,
          7,
          8,
          9
         ],
         "y": [
          0.021150058773644384,
          0.009927520268620298,
          0.0070224220253442505,
          0.005653021558694826,
          0.0038868298218083124,
          0.0019298541554456626,
          0.004850066781269495,
          0.0014763173183782235,
          0.002247305340805557
         ]
        },
        {
         "line": {
          "color": "royalblue"
         },
         "mode": "lines",
         "name": "Validation Loss",
         "type": "scatter",
         "x": [
          1,
          2,
          3,
          4,
          5,
          6,
          7,
          8,
          9
         ],
         "y": [
          0.016203861682914163,
          0.01559972119395665,
          0.014281954560179395,
          0.014060258972139788,
          0.018177554383588094,
          0.019375278688357592,
          0.01676829270153836,
          0.01908904293897482,
          0.015757452005140116
         ]
        }
       ],
       "layout": {
        "legend": {
         "x": 0.02,
         "y": 0.98
        },
        "template": {
         "data": {
          "bar": [
           {
            "error_x": {
             "color": "#2a3f5f"
            },
            "error_y": {
             "color": "#2a3f5f"
            },
            "marker": {
             "line": {
              "color": "#E5ECF6",
              "width": 0.5
             },
             "pattern": {
              "fillmode": "overlay",
              "size": 10,
              "solidity": 0.2
             }
            },
            "type": "bar"
           }
          ],
          "barpolar": [
           {
            "marker": {
             "line": {
              "color": "#E5ECF6",
              "width": 0.5
             },
             "pattern": {
              "fillmode": "overlay",
              "size": 10,
              "solidity": 0.2
             }
            },
            "type": "barpolar"
           }
          ],
          "carpet": [
           {
            "aaxis": {
             "endlinecolor": "#2a3f5f",
             "gridcolor": "white",
             "linecolor": "white",
             "minorgridcolor": "white",
             "startlinecolor": "#2a3f5f"
            },
            "baxis": {
             "endlinecolor": "#2a3f5f",
             "gridcolor": "white",
             "linecolor": "white",
             "minorgridcolor": "white",
             "startlinecolor": "#2a3f5f"
            },
            "type": "carpet"
           }
          ],
          "choropleth": [
           {
            "colorbar": {
             "outlinewidth": 0,
             "ticks": ""
            },
            "type": "choropleth"
           }
          ],
          "contour": [
           {
            "colorbar": {
             "outlinewidth": 0,
             "ticks": ""
            },
            "colorscale": [
             [
              0,
              "#0d0887"
             ],
             [
              0.1111111111111111,
              "#46039f"
             ],
             [
              0.2222222222222222,
              "#7201a8"
             ],
             [
              0.3333333333333333,
              "#9c179e"
             ],
             [
              0.4444444444444444,
              "#bd3786"
             ],
             [
              0.5555555555555556,
              "#d8576b"
             ],
             [
              0.6666666666666666,
              "#ed7953"
             ],
             [
              0.7777777777777778,
              "#fb9f3a"
             ],
             [
              0.8888888888888888,
              "#fdca26"
             ],
             [
              1,
              "#f0f921"
             ]
            ],
            "type": "contour"
           }
          ],
          "contourcarpet": [
           {
            "colorbar": {
             "outlinewidth": 0,
             "ticks": ""
            },
            "type": "contourcarpet"
           }
          ],
          "heatmap": [
           {
            "colorbar": {
             "outlinewidth": 0,
             "ticks": ""
            },
            "colorscale": [
             [
              0,
              "#0d0887"
             ],
             [
              0.1111111111111111,
              "#46039f"
             ],
             [
              0.2222222222222222,
              "#7201a8"
             ],
             [
              0.3333333333333333,
              "#9c179e"
             ],
             [
              0.4444444444444444,
              "#bd3786"
             ],
             [
              0.5555555555555556,
              "#d8576b"
             ],
             [
              0.6666666666666666,
              "#ed7953"
             ],
             [
              0.7777777777777778,
              "#fb9f3a"
             ],
             [
              0.8888888888888888,
              "#fdca26"
             ],
             [
              1,
              "#f0f921"
             ]
            ],
            "type": "heatmap"
           }
          ],
          "heatmapgl": [
           {
            "colorbar": {
             "outlinewidth": 0,
             "ticks": ""
            },
            "colorscale": [
             [
              0,
              "#0d0887"
             ],
             [
              0.1111111111111111,
              "#46039f"
             ],
             [
              0.2222222222222222,
              "#7201a8"
             ],
             [
              0.3333333333333333,
              "#9c179e"
             ],
             [
              0.4444444444444444,
              "#bd3786"
             ],
             [
              0.5555555555555556,
              "#d8576b"
             ],
             [
              0.6666666666666666,
              "#ed7953"
             ],
             [
              0.7777777777777778,
              "#fb9f3a"
             ],
             [
              0.8888888888888888,
              "#fdca26"
             ],
             [
              1,
              "#f0f921"
             ]
            ],
            "type": "heatmapgl"
           }
          ],
          "histogram": [
           {
            "marker": {
             "pattern": {
              "fillmode": "overlay",
              "size": 10,
              "solidity": 0.2
             }
            },
            "type": "histogram"
           }
          ],
          "histogram2d": [
           {
            "colorbar": {
             "outlinewidth": 0,
             "ticks": ""
            },
            "colorscale": [
             [
              0,
              "#0d0887"
             ],
             [
              0.1111111111111111,
              "#46039f"
             ],
             [
              0.2222222222222222,
              "#7201a8"
             ],
             [
              0.3333333333333333,
              "#9c179e"
             ],
             [
              0.4444444444444444,
              "#bd3786"
             ],
             [
              0.5555555555555556,
              "#d8576b"
             ],
             [
              0.6666666666666666,
              "#ed7953"
             ],
             [
              0.7777777777777778,
              "#fb9f3a"
             ],
             [
              0.8888888888888888,
              "#fdca26"
             ],
             [
              1,
              "#f0f921"
             ]
            ],
            "type": "histogram2d"
           }
          ],
          "histogram2dcontour": [
           {
            "colorbar": {
             "outlinewidth": 0,
             "ticks": ""
            },
            "colorscale": [
             [
              0,
              "#0d0887"
             ],
             [
              0.1111111111111111,
              "#46039f"
             ],
             [
              0.2222222222222222,
              "#7201a8"
             ],
             [
              0.3333333333333333,
              "#9c179e"
             ],
             [
              0.4444444444444444,
              "#bd3786"
             ],
             [
              0.5555555555555556,
              "#d8576b"
             ],
             [
              0.6666666666666666,
              "#ed7953"
             ],
             [
              0.7777777777777778,
              "#fb9f3a"
             ],
             [
              0.8888888888888888,
              "#fdca26"
             ],
             [
              1,
              "#f0f921"
             ]
            ],
            "type": "histogram2dcontour"
           }
          ],
          "mesh3d": [
           {
            "colorbar": {
             "outlinewidth": 0,
             "ticks": ""
            },
            "type": "mesh3d"
           }
          ],
          "parcoords": [
           {
            "line": {
             "colorbar": {
              "outlinewidth": 0,
              "ticks": ""
             }
            },
            "type": "parcoords"
           }
          ],
          "pie": [
           {
            "automargin": true,
            "type": "pie"
           }
          ],
          "scatter": [
           {
            "fillpattern": {
             "fillmode": "overlay",
             "size": 10,
             "solidity": 0.2
            },
            "type": "scatter"
           }
          ],
          "scatter3d": [
           {
            "line": {
             "colorbar": {
              "outlinewidth": 0,
              "ticks": ""
             }
            },
            "marker": {
             "colorbar": {
              "outlinewidth": 0,
              "ticks": ""
             }
            },
            "type": "scatter3d"
           }
          ],
          "scattercarpet": [
           {
            "marker": {
             "colorbar": {
              "outlinewidth": 0,
              "ticks": ""
             }
            },
            "type": "scattercarpet"
           }
          ],
          "scattergeo": [
           {
            "marker": {
             "colorbar": {
              "outlinewidth": 0,
              "ticks": ""
             }
            },
            "type": "scattergeo"
           }
          ],
          "scattergl": [
           {
            "marker": {
             "colorbar": {
              "outlinewidth": 0,
              "ticks": ""
             }
            },
            "type": "scattergl"
           }
          ],
          "scattermapbox": [
           {
            "marker": {
             "colorbar": {
              "outlinewidth": 0,
              "ticks": ""
             }
            },
            "type": "scattermapbox"
           }
          ],
          "scatterpolar": [
           {
            "marker": {
             "colorbar": {
              "outlinewidth": 0,
              "ticks": ""
             }
            },
            "type": "scatterpolar"
           }
          ],
          "scatterpolargl": [
           {
            "marker": {
             "colorbar": {
              "outlinewidth": 0,
              "ticks": ""
             }
            },
            "type": "scatterpolargl"
           }
          ],
          "scatterternary": [
           {
            "marker": {
             "colorbar": {
              "outlinewidth": 0,
              "ticks": ""
             }
            },
            "type": "scatterternary"
           }
          ],
          "surface": [
           {
            "colorbar": {
             "outlinewidth": 0,
             "ticks": ""
            },
            "colorscale": [
             [
              0,
              "#0d0887"
             ],
             [
              0.1111111111111111,
              "#46039f"
             ],
             [
              0.2222222222222222,
              "#7201a8"
             ],
             [
              0.3333333333333333,
              "#9c179e"
             ],
             [
              0.4444444444444444,
              "#bd3786"
             ],
             [
              0.5555555555555556,
              "#d8576b"
             ],
             [
              0.6666666666666666,
              "#ed7953"
             ],
             [
              0.7777777777777778,
              "#fb9f3a"
             ],
             [
              0.8888888888888888,
              "#fdca26"
             ],
             [
              1,
              "#f0f921"
             ]
            ],
            "type": "surface"
           }
          ],
          "table": [
           {
            "cells": {
             "fill": {
              "color": "#EBF0F8"
             },
             "line": {
              "color": "white"
             }
            },
            "header": {
             "fill": {
              "color": "#C8D4E3"
             },
             "line": {
              "color": "white"
             }
            },
            "type": "table"
           }
          ]
         },
         "layout": {
          "annotationdefaults": {
           "arrowcolor": "#2a3f5f",
           "arrowhead": 0,
           "arrowwidth": 1
          },
          "autotypenumbers": "strict",
          "coloraxis": {
           "colorbar": {
            "outlinewidth": 0,
            "ticks": ""
           }
          },
          "colorscale": {
           "diverging": [
            [
             0,
             "#8e0152"
            ],
            [
             0.1,
             "#c51b7d"
            ],
            [
             0.2,
             "#de77ae"
            ],
            [
             0.3,
             "#f1b6da"
            ],
            [
             0.4,
             "#fde0ef"
            ],
            [
             0.5,
             "#f7f7f7"
            ],
            [
             0.6,
             "#e6f5d0"
            ],
            [
             0.7,
             "#b8e186"
            ],
            [
             0.8,
             "#7fbc41"
            ],
            [
             0.9,
             "#4d9221"
            ],
            [
             1,
             "#276419"
            ]
           ],
           "sequential": [
            [
             0,
             "#0d0887"
            ],
            [
             0.1111111111111111,
             "#46039f"
            ],
            [
             0.2222222222222222,
             "#7201a8"
            ],
            [
             0.3333333333333333,
             "#9c179e"
            ],
            [
             0.4444444444444444,
             "#bd3786"
            ],
            [
             0.5555555555555556,
             "#d8576b"
            ],
            [
             0.6666666666666666,
             "#ed7953"
            ],
            [
             0.7777777777777778,
             "#fb9f3a"
            ],
            [
             0.8888888888888888,
             "#fdca26"
            ],
            [
             1,
             "#f0f921"
            ]
           ],
           "sequentialminus": [
            [
             0,
             "#0d0887"
            ],
            [
             0.1111111111111111,
             "#46039f"
            ],
            [
             0.2222222222222222,
             "#7201a8"
            ],
            [
             0.3333333333333333,
             "#9c179e"
            ],
            [
             0.4444444444444444,
             "#bd3786"
            ],
            [
             0.5555555555555556,
             "#d8576b"
            ],
            [
             0.6666666666666666,
             "#ed7953"
            ],
            [
             0.7777777777777778,
             "#fb9f3a"
            ],
            [
             0.8888888888888888,
             "#fdca26"
            ],
            [
             1,
             "#f0f921"
            ]
           ]
          },
          "colorway": [
           "#636efa",
           "#EF553B",
           "#00cc96",
           "#ab63fa",
           "#FFA15A",
           "#19d3f3",
           "#FF6692",
           "#B6E880",
           "#FF97FF",
           "#FECB52"
          ],
          "font": {
           "color": "#2a3f5f"
          },
          "geo": {
           "bgcolor": "white",
           "lakecolor": "white",
           "landcolor": "#E5ECF6",
           "showlakes": true,
           "showland": true,
           "subunitcolor": "white"
          },
          "hoverlabel": {
           "align": "left"
          },
          "hovermode": "closest",
          "mapbox": {
           "style": "light"
          },
          "paper_bgcolor": "white",
          "plot_bgcolor": "#E5ECF6",
          "polar": {
           "angularaxis": {
            "gridcolor": "white",
            "linecolor": "white",
            "ticks": ""
           },
           "bgcolor": "#E5ECF6",
           "radialaxis": {
            "gridcolor": "white",
            "linecolor": "white",
            "ticks": ""
           }
          },
          "scene": {
           "xaxis": {
            "backgroundcolor": "#E5ECF6",
            "gridcolor": "white",
            "gridwidth": 2,
            "linecolor": "white",
            "showbackground": true,
            "ticks": "",
            "zerolinecolor": "white"
           },
           "yaxis": {
            "backgroundcolor": "#E5ECF6",
            "gridcolor": "white",
            "gridwidth": 2,
            "linecolor": "white",
            "showbackground": true,
            "ticks": "",
            "zerolinecolor": "white"
           },
           "zaxis": {
            "backgroundcolor": "#E5ECF6",
            "gridcolor": "white",
            "gridwidth": 2,
            "linecolor": "white",
            "showbackground": true,
            "ticks": "",
            "zerolinecolor": "white"
           }
          },
          "shapedefaults": {
           "line": {
            "color": "#2a3f5f"
           }
          },
          "ternary": {
           "aaxis": {
            "gridcolor": "white",
            "linecolor": "white",
            "ticks": ""
           },
           "baxis": {
            "gridcolor": "white",
            "linecolor": "white",
            "ticks": ""
           },
           "bgcolor": "#E5ECF6",
           "caxis": {
            "gridcolor": "white",
            "linecolor": "white",
            "ticks": ""
           }
          },
          "title": {
           "x": 0.05
          },
          "xaxis": {
           "automargin": true,
           "gridcolor": "white",
           "linecolor": "white",
           "ticks": "",
           "title": {
            "standoff": 15
           },
           "zerolinecolor": "white",
           "zerolinewidth": 2
          },
          "yaxis": {
           "automargin": true,
           "gridcolor": "white",
           "linecolor": "white",
           "ticks": "",
           "title": {
            "standoff": 15
           },
           "zerolinecolor": "white",
           "zerolinewidth": 2
          }
         }
        },
        "title": {
         "text": "Training and Validation Loss"
        },
        "xaxis": {
         "title": {
          "text": "Epochs"
         }
        },
        "yaxis": {
         "title": {
          "text": "Loss"
         }
        }
       }
      }
     },
     "metadata": {},
     "output_type": "display_data"
    }
   ],
   "source": [
    "import plotly.graph_objects as go\n",
    "\n",
    "acc = train_state['train_acc']\n",
    "val_acc = train_state['val_acc']\n",
    "loss = train_state['train_loss']\n",
    "val_loss = train_state['val_loss']\n",
    "\n",
    "epochs = list(range(1, len(acc) + 1))\n",
    "\n",
    "# Create interactive line chart\n",
    "fig = go.Figure()\n",
    "\n",
    "for y, name, color, mode in [(loss, 'Training Loss', 'blue', 'lines+markers'),\n",
    "                             (val_loss, 'Validation Loss', 'royalblue', 'lines')]:\n",
    "    fig.add_trace(go.Scatter(x=epochs, y=y, mode=mode, name=name, line=dict(color=color)))\n",
    "\n",
    "fig.update_layout(\n",
    "    title='Training and Validation Loss',\n",
    "    xaxis_title='Epochs',\n",
    "    yaxis_title='Loss',\n",
    "    legend=dict(x=0.02, y=0.98)\n",
    ")\n",
    "\n",
    "fig.show()"
   ]
  },
  {
   "cell_type": "code",
   "execution_count": null,
   "id": "090bc59c",
   "metadata": {},
   "outputs": [
    {
     "data": {
      "application/vnd.plotly.v1+json": {
       "config": {
        "plotlyServerURL": "https://plot.ly"
       },
       "data": [
        {
         "line": {
          "color": "blue"
         },
         "mode": "lines+markers",
         "name": "Training Accuracy",
         "type": "scatter",
         "x": [
          1,
          2,
          3,
          4,
          5,
          6,
          7,
          8,
          9
         ],
         "y": [
          99.55448065173117,
          99.70723014256622,
          99.81860997963332,
          99.86952647657843,
          99.88225560081462,
          99.93953665987785,
          99.8536150712831,
          99.9681771894093,
          99.94908350305491
         ]
        },
        {
         "line": {
          "color": "royalblue"
         },
         "mode": "lines",
         "name": "Validation Accuracy",
         "type": "scatter",
         "x": [
          1,
          2,
          3,
          4,
          5,
          6,
          7,
          8,
          9
         ],
         "y": [
          99.62797619047622,
          99.67261904761905,
          99.67261904761908,
          99.73214285714285,
          99.67261904761907,
          99.70238095238086,
          99.70238095238099,
          99.74702380952385,
          99.71726190476184
         ]
        }
       ],
       "layout": {
        "legend": {
         "x": 0.02,
         "y": 0.98
        },
        "template": {
         "data": {
          "bar": [
           {
            "error_x": {
             "color": "#2a3f5f"
            },
            "error_y": {
             "color": "#2a3f5f"
            },
            "marker": {
             "line": {
              "color": "#E5ECF6",
              "width": 0.5
             },
             "pattern": {
              "fillmode": "overlay",
              "size": 10,
              "solidity": 0.2
             }
            },
            "type": "bar"
           }
          ],
          "barpolar": [
           {
            "marker": {
             "line": {
              "color": "#E5ECF6",
              "width": 0.5
             },
             "pattern": {
              "fillmode": "overlay",
              "size": 10,
              "solidity": 0.2
             }
            },
            "type": "barpolar"
           }
          ],
          "carpet": [
           {
            "aaxis": {
             "endlinecolor": "#2a3f5f",
             "gridcolor": "white",
             "linecolor": "white",
             "minorgridcolor": "white",
             "startlinecolor": "#2a3f5f"
            },
            "baxis": {
             "endlinecolor": "#2a3f5f",
             "gridcolor": "white",
             "linecolor": "white",
             "minorgridcolor": "white",
             "startlinecolor": "#2a3f5f"
            },
            "type": "carpet"
           }
          ],
          "choropleth": [
           {
            "colorbar": {
             "outlinewidth": 0,
             "ticks": ""
            },
            "type": "choropleth"
           }
          ],
          "contour": [
           {
            "colorbar": {
             "outlinewidth": 0,
             "ticks": ""
            },
            "colorscale": [
             [
              0,
              "#0d0887"
             ],
             [
              0.1111111111111111,
              "#46039f"
             ],
             [
              0.2222222222222222,
              "#7201a8"
             ],
             [
              0.3333333333333333,
              "#9c179e"
             ],
             [
              0.4444444444444444,
              "#bd3786"
             ],
             [
              0.5555555555555556,
              "#d8576b"
             ],
             [
              0.6666666666666666,
              "#ed7953"
             ],
             [
              0.7777777777777778,
              "#fb9f3a"
             ],
             [
              0.8888888888888888,
              "#fdca26"
             ],
             [
              1,
              "#f0f921"
             ]
            ],
            "type": "contour"
           }
          ],
          "contourcarpet": [
           {
            "colorbar": {
             "outlinewidth": 0,
             "ticks": ""
            },
            "type": "contourcarpet"
           }
          ],
          "heatmap": [
           {
            "colorbar": {
             "outlinewidth": 0,
             "ticks": ""
            },
            "colorscale": [
             [
              0,
              "#0d0887"
             ],
             [
              0.1111111111111111,
              "#46039f"
             ],
             [
              0.2222222222222222,
              "#7201a8"
             ],
             [
              0.3333333333333333,
              "#9c179e"
             ],
             [
              0.4444444444444444,
              "#bd3786"
             ],
             [
              0.5555555555555556,
              "#d8576b"
             ],
             [
              0.6666666666666666,
              "#ed7953"
             ],
             [
              0.7777777777777778,
              "#fb9f3a"
             ],
             [
              0.8888888888888888,
              "#fdca26"
             ],
             [
              1,
              "#f0f921"
             ]
            ],
            "type": "heatmap"
           }
          ],
          "heatmapgl": [
           {
            "colorbar": {
             "outlinewidth": 0,
             "ticks": ""
            },
            "colorscale": [
             [
              0,
              "#0d0887"
             ],
             [
              0.1111111111111111,
              "#46039f"
             ],
             [
              0.2222222222222222,
              "#7201a8"
             ],
             [
              0.3333333333333333,
              "#9c179e"
             ],
             [
              0.4444444444444444,
              "#bd3786"
             ],
             [
              0.5555555555555556,
              "#d8576b"
             ],
             [
              0.6666666666666666,
              "#ed7953"
             ],
             [
              0.7777777777777778,
              "#fb9f3a"
             ],
             [
              0.8888888888888888,
              "#fdca26"
             ],
             [
              1,
              "#f0f921"
             ]
            ],
            "type": "heatmapgl"
           }
          ],
          "histogram": [
           {
            "marker": {
             "pattern": {
              "fillmode": "overlay",
              "size": 10,
              "solidity": 0.2
             }
            },
            "type": "histogram"
           }
          ],
          "histogram2d": [
           {
            "colorbar": {
             "outlinewidth": 0,
             "ticks": ""
            },
            "colorscale": [
             [
              0,
              "#0d0887"
             ],
             [
              0.1111111111111111,
              "#46039f"
             ],
             [
              0.2222222222222222,
              "#7201a8"
             ],
             [
              0.3333333333333333,
              "#9c179e"
             ],
             [
              0.4444444444444444,
              "#bd3786"
             ],
             [
              0.5555555555555556,
              "#d8576b"
             ],
             [
              0.6666666666666666,
              "#ed7953"
             ],
             [
              0.7777777777777778,
              "#fb9f3a"
             ],
             [
              0.8888888888888888,
              "#fdca26"
             ],
             [
              1,
              "#f0f921"
             ]
            ],
            "type": "histogram2d"
           }
          ],
          "histogram2dcontour": [
           {
            "colorbar": {
             "outlinewidth": 0,
             "ticks": ""
            },
            "colorscale": [
             [
              0,
              "#0d0887"
             ],
             [
              0.1111111111111111,
              "#46039f"
             ],
             [
              0.2222222222222222,
              "#7201a8"
             ],
             [
              0.3333333333333333,
              "#9c179e"
             ],
             [
              0.4444444444444444,
              "#bd3786"
             ],
             [
              0.5555555555555556,
              "#d8576b"
             ],
             [
              0.6666666666666666,
              "#ed7953"
             ],
             [
              0.7777777777777778,
              "#fb9f3a"
             ],
             [
              0.8888888888888888,
              "#fdca26"
             ],
             [
              1,
              "#f0f921"
             ]
            ],
            "type": "histogram2dcontour"
           }
          ],
          "mesh3d": [
           {
            "colorbar": {
             "outlinewidth": 0,
             "ticks": ""
            },
            "type": "mesh3d"
           }
          ],
          "parcoords": [
           {
            "line": {
             "colorbar": {
              "outlinewidth": 0,
              "ticks": ""
             }
            },
            "type": "parcoords"
           }
          ],
          "pie": [
           {
            "automargin": true,
            "type": "pie"
           }
          ],
          "scatter": [
           {
            "fillpattern": {
             "fillmode": "overlay",
             "size": 10,
             "solidity": 0.2
            },
            "type": "scatter"
           }
          ],
          "scatter3d": [
           {
            "line": {
             "colorbar": {
              "outlinewidth": 0,
              "ticks": ""
             }
            },
            "marker": {
             "colorbar": {
              "outlinewidth": 0,
              "ticks": ""
             }
            },
            "type": "scatter3d"
           }
          ],
          "scattercarpet": [
           {
            "marker": {
             "colorbar": {
              "outlinewidth": 0,
              "ticks": ""
             }
            },
            "type": "scattercarpet"
           }
          ],
          "scattergeo": [
           {
            "marker": {
             "colorbar": {
              "outlinewidth": 0,
              "ticks": ""
             }
            },
            "type": "scattergeo"
           }
          ],
          "scattergl": [
           {
            "marker": {
             "colorbar": {
              "outlinewidth": 0,
              "ticks": ""
             }
            },
            "type": "scattergl"
           }
          ],
          "scattermapbox": [
           {
            "marker": {
             "colorbar": {
              "outlinewidth": 0,
              "ticks": ""
             }
            },
            "type": "scattermapbox"
           }
          ],
          "scatterpolar": [
           {
            "marker": {
             "colorbar": {
              "outlinewidth": 0,
              "ticks": ""
             }
            },
            "type": "scatterpolar"
           }
          ],
          "scatterpolargl": [
           {
            "marker": {
             "colorbar": {
              "outlinewidth": 0,
              "ticks": ""
             }
            },
            "type": "scatterpolargl"
           }
          ],
          "scatterternary": [
           {
            "marker": {
             "colorbar": {
              "outlinewidth": 0,
              "ticks": ""
             }
            },
            "type": "scatterternary"
           }
          ],
          "surface": [
           {
            "colorbar": {
             "outlinewidth": 0,
             "ticks": ""
            },
            "colorscale": [
             [
              0,
              "#0d0887"
             ],
             [
              0.1111111111111111,
              "#46039f"
             ],
             [
              0.2222222222222222,
              "#7201a8"
             ],
             [
              0.3333333333333333,
              "#9c179e"
             ],
             [
              0.4444444444444444,
              "#bd3786"
             ],
             [
              0.5555555555555556,
              "#d8576b"
             ],
             [
              0.6666666666666666,
              "#ed7953"
             ],
             [
              0.7777777777777778,
              "#fb9f3a"
             ],
             [
              0.8888888888888888,
              "#fdca26"
             ],
             [
              1,
              "#f0f921"
             ]
            ],
            "type": "surface"
           }
          ],
          "table": [
           {
            "cells": {
             "fill": {
              "color": "#EBF0F8"
             },
             "line": {
              "color": "white"
             }
            },
            "header": {
             "fill": {
              "color": "#C8D4E3"
             },
             "line": {
              "color": "white"
             }
            },
            "type": "table"
           }
          ]
         },
         "layout": {
          "annotationdefaults": {
           "arrowcolor": "#2a3f5f",
           "arrowhead": 0,
           "arrowwidth": 1
          },
          "autotypenumbers": "strict",
          "coloraxis": {
           "colorbar": {
            "outlinewidth": 0,
            "ticks": ""
           }
          },
          "colorscale": {
           "diverging": [
            [
             0,
             "#8e0152"
            ],
            [
             0.1,
             "#c51b7d"
            ],
            [
             0.2,
             "#de77ae"
            ],
            [
             0.3,
             "#f1b6da"
            ],
            [
             0.4,
             "#fde0ef"
            ],
            [
             0.5,
             "#f7f7f7"
            ],
            [
             0.6,
             "#e6f5d0"
            ],
            [
             0.7,
             "#b8e186"
            ],
            [
             0.8,
             "#7fbc41"
            ],
            [
             0.9,
             "#4d9221"
            ],
            [
             1,
             "#276419"
            ]
           ],
           "sequential": [
            [
             0,
             "#0d0887"
            ],
            [
             0.1111111111111111,
             "#46039f"
            ],
            [
             0.2222222222222222,
             "#7201a8"
            ],
            [
             0.3333333333333333,
             "#9c179e"
            ],
            [
             0.4444444444444444,
             "#bd3786"
            ],
            [
             0.5555555555555556,
             "#d8576b"
            ],
            [
             0.6666666666666666,
             "#ed7953"
            ],
            [
             0.7777777777777778,
             "#fb9f3a"
            ],
            [
             0.8888888888888888,
             "#fdca26"
            ],
            [
             1,
             "#f0f921"
            ]
           ],
           "sequentialminus": [
            [
             0,
             "#0d0887"
            ],
            [
             0.1111111111111111,
             "#46039f"
            ],
            [
             0.2222222222222222,
             "#7201a8"
            ],
            [
             0.3333333333333333,
             "#9c179e"
            ],
            [
             0.4444444444444444,
             "#bd3786"
            ],
            [
             0.5555555555555556,
             "#d8576b"
            ],
            [
             0.6666666666666666,
             "#ed7953"
            ],
            [
             0.7777777777777778,
             "#fb9f3a"
            ],
            [
             0.8888888888888888,
             "#fdca26"
            ],
            [
             1,
             "#f0f921"
            ]
           ]
          },
          "colorway": [
           "#636efa",
           "#EF553B",
           "#00cc96",
           "#ab63fa",
           "#FFA15A",
           "#19d3f3",
           "#FF6692",
           "#B6E880",
           "#FF97FF",
           "#FECB52"
          ],
          "font": {
           "color": "#2a3f5f"
          },
          "geo": {
           "bgcolor": "white",
           "lakecolor": "white",
           "landcolor": "#E5ECF6",
           "showlakes": true,
           "showland": true,
           "subunitcolor": "white"
          },
          "hoverlabel": {
           "align": "left"
          },
          "hovermode": "closest",
          "mapbox": {
           "style": "light"
          },
          "paper_bgcolor": "white",
          "plot_bgcolor": "#E5ECF6",
          "polar": {
           "angularaxis": {
            "gridcolor": "white",
            "linecolor": "white",
            "ticks": ""
           },
           "bgcolor": "#E5ECF6",
           "radialaxis": {
            "gridcolor": "white",
            "linecolor": "white",
            "ticks": ""
           }
          },
          "scene": {
           "xaxis": {
            "backgroundcolor": "#E5ECF6",
            "gridcolor": "white",
            "gridwidth": 2,
            "linecolor": "white",
            "showbackground": true,
            "ticks": "",
            "zerolinecolor": "white"
           },
           "yaxis": {
            "backgroundcolor": "#E5ECF6",
            "gridcolor": "white",
            "gridwidth": 2,
            "linecolor": "white",
            "showbackground": true,
            "ticks": "",
            "zerolinecolor": "white"
           },
           "zaxis": {
            "backgroundcolor": "#E5ECF6",
            "gridcolor": "white",
            "gridwidth": 2,
            "linecolor": "white",
            "showbackground": true,
            "ticks": "",
            "zerolinecolor": "white"
           }
          },
          "shapedefaults": {
           "line": {
            "color": "#2a3f5f"
           }
          },
          "ternary": {
           "aaxis": {
            "gridcolor": "white",
            "linecolor": "white",
            "ticks": ""
           },
           "baxis": {
            "gridcolor": "white",
            "linecolor": "white",
            "ticks": ""
           },
           "bgcolor": "#E5ECF6",
           "caxis": {
            "gridcolor": "white",
            "linecolor": "white",
            "ticks": ""
           }
          },
          "title": {
           "x": 0.05
          },
          "xaxis": {
           "automargin": true,
           "gridcolor": "white",
           "linecolor": "white",
           "ticks": "",
           "title": {
            "standoff": 15
           },
           "zerolinecolor": "white",
           "zerolinewidth": 2
          },
          "yaxis": {
           "automargin": true,
           "gridcolor": "white",
           "linecolor": "white",
           "ticks": "",
           "title": {
            "standoff": 15
           },
           "zerolinecolor": "white",
           "zerolinewidth": 2
          }
         }
        },
        "title": {
         "text": "Training and Validation Accuracy"
        },
        "xaxis": {
         "title": {
          "text": "Epochs"
         }
        },
        "yaxis": {
         "title": {
          "text": "Accuracy"
         }
        }
       }
      }
     },
     "metadata": {},
     "output_type": "display_data"
    }
   ],
   "source": [
    "# Create interactive line chart for accuracy\n",
    "fig = go.Figure()\n",
    "\n",
    "for y, name, color, mode in [(acc, 'Training Accuracy', 'blue', 'lines+markers'),\n",
    "                             (val_acc, 'Validation Accuracy', 'royalblue', 'lines')]:\n",
    "    fig.add_trace(go.Scatter(x=epochs, y=y, mode=mode, name=name, line=dict(color=color)))\n",
    "\n",
    "fig.update_layout(\n",
    "    title='Training and Validation Accuracy',\n",
    "    xaxis_title='Epochs',\n",
    "    yaxis_title='Accuracy',\n",
    "    legend=dict(x=0.02, y=0.98)\n",
    ")\n",
    "\n",
    "fig.show()"
   ]
  },
  {
   "cell_type": "code",
   "execution_count": null,
   "id": "df9016d9",
   "metadata": {},
   "outputs": [],
   "source": [
    "# compute the loss & accuracy on the test set using the best available model\n",
    "\n",
    "classifier.load_state_dict(torch.load(train_state['model_filename'],weights_only=False))\n",
    "\n",
    "classifier = classifier.to(args.device)\n",
    "dataset.class_weights = dataset.class_weights.to(args.device)\n",
    "loss_func = nn.BCEWithLogitsLoss()\n",
    "\n",
    "dataset.set_split('test')\n",
    "batch_generator = generate_batches(dataset, \n",
    "                                   batch_size=args.batch_size, \n",
    "                                   device=args.device)\n",
    "running_loss = 0.\n",
    "running_acc = 0.\n",
    "classifier.eval()\n",
    "\n",
    "y_pred_list = []         # store predicted values for confusion matrix\n",
    "y_true_list = []        # ground truth values\n",
    "\n",
    "with torch.no_grad():  # Disable gradient computation\n",
    "  for batch_index, batch_dict in enumerate(batch_generator):\n",
    "    # compute the output\n",
    "    y_pred =  classifier(batch_dict['x_data'],\n",
    "                         x_lengths=batch_dict['x_length'])\n",
    "\n",
    "    # store predicted values and ground truth values for calculating confusion matrix\n",
    "    y_pred_prob = torch.sigmoid(y_pred).squeeze()\n",
    "    y_pred_binary = (y_pred_prob > 0.5).float()\n",
    "    y_pred_list.extend(y_pred_binary.cpu().numpy())\n",
    "    y_target = batch_dict['y_target'].float().unsqueeze(1)\n",
    "    y_true_list.extend(y_target.cpu().numpy())\n",
    "    \n",
    "    # compute the loss\n",
    "    loss = loss_func(y_pred, y_target) \n",
    "    loss_t = loss.item()\n",
    "    running_loss += (loss_t - running_loss) / (batch_index + 1)\n",
    "\n",
    "    # compute the accuracy\n",
    "    acc_t = compute_accuracy(y_pred, y_target)\n",
    "    running_acc += (acc_t - running_acc) / (batch_index + 1)\n",
    "\n",
    "train_state['test_loss'] = running_loss\n",
    "train_state['test_acc'] = running_acc"
   ]
  },
  {
   "cell_type": "code",
   "execution_count": null,
   "id": "5529f5c1",
   "metadata": {},
   "outputs": [
    {
     "name": "stdout",
     "output_type": "stream",
     "text": [
      "Test loss: 0.014636302897581905;\n",
      "Test Accuracy: 99.68750000000007\n"
     ]
    }
   ],
   "source": [
    "print(\"Test loss: {};\".format(train_state['test_loss']))\n",
    "print(\"Test Accuracy: {}\".format(train_state['test_acc']))"
   ]
  },
  {
   "cell_type": "code",
   "execution_count": null,
   "id": "4e6cb036",
   "metadata": {},
   "outputs": [
    {
     "name": "stdout",
     "output_type": "stream",
     "text": [
      "Binary classes: ['False', 'True']\n"
     ]
    }
   ],
   "source": [
    "from sklearn.metrics import classification_report, confusion_matrix, accuracy_score\n",
    "# For binary classification, we have two classes: False (0) and True (1)\n",
    "binary_classes = ['False', 'True']\n",
    "print(\"Binary classes:\", binary_classes)"
   ]
  },
  {
   "cell_type": "code",
   "execution_count": null,
   "id": "4031ead5",
   "metadata": {},
   "outputs": [
    {
     "name": "stdout",
     "output_type": "stream",
     "text": [
      "True       False  True\n",
      "Predicted             \n",
      "False       3503    10\n",
      "True          11  3196\n"
     ]
    }
   ],
   "source": [
    "import pandas as pd\n",
    "cm = confusion_matrix(y_true_list, y_pred_list)\n",
    "cm_df = pd.DataFrame(cm.T, index=binary_classes, columns=binary_classes)\n",
    "cm_df.index.name = 'Predicted'\n",
    "cm_df.columns.name = 'True'\n",
    "print(cm_df)"
   ]
  },
  {
   "cell_type": "code",
   "execution_count": null,
   "id": "ff9fb44c",
   "metadata": {},
   "outputs": [
    {
     "name": "stdout",
     "output_type": "stream",
     "text": [
      "              precision    recall  f1-score   support\n",
      "\n",
      "       False       1.00      1.00      1.00      3514\n",
      "        True       1.00      1.00      1.00      3206\n",
      "\n",
      "    accuracy                           1.00      6720\n",
      "   macro avg       1.00      1.00      1.00      6720\n",
      "weighted avg       1.00      1.00      1.00      6720\n",
      "\n"
     ]
    }
   ],
   "source": [
    "print(classification_report(y_true_list, y_pred_list, target_names=binary_classes))"
   ]
  },
  {
   "cell_type": "code",
   "execution_count": null,
   "id": "eaead303",
   "metadata": {},
   "outputs": [
    {
     "data": {
      "image/png": "[encoded data removed]",
      "text/plain": [
       "<Figure size 1500x1000 with 2 Axes>"
      ]
     },
     "metadata": {},
     "output_type": "display_data"
    }
   ],
   "source": [
    "from matplotlib import pyplot as plt\n",
    "import seaborn as sns\n",
    "class_names = ['fake', 'real']\n",
    "name = 'CNN Model'\n",
    "cm = confusion_matrix(y_true_list, y_pred_list)\n",
    "plt.figure(figsize=(15, 10))\n",
    "sns.heatmap(cm, annot=True, fmt='d', cmap='Blues', \n",
    "                xticklabels=class_names, yticklabels=class_names)\n",
    "plt.title(f'{name} confusion_matrix', fontsize=12)\n",
    "plt.ylabel('True Label', fontsize=10)\n",
    "plt.xlabel('Predicted Label', fontsize=10)\n",
    "plt.show()"
   ]
  }
 ],
 "metadata": {
  "kernelspec": {
   "display_name": "base",
   "language": "python",
   "name": "python3"
  },
  "language_info": {
   "codemirror_mode": {
    "name": "ipython",
    "version": 3
   },
   "file_extension": ".py",
   "mimetype": "text/x-python",
   "name": "python",
   "nbconvert_exporter": "python",
   "pygments_lexer": "ipython3",
   "version": "3.12.7"
  }
 },
 "nbformat": 4,
 "nbformat_minor": 5
}
